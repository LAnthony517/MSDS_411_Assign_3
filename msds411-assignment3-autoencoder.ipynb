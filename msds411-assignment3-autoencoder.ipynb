{
 "cells": [
  {
   "cell_type": "markdown",
   "metadata": {},
   "source": [
    "# MSDS 422 Assignment 9: Autoencoder"
   ]
  },
  {
   "cell_type": "markdown",
   "metadata": {},
   "source": [
    "## Name: Tia Braimah\n",
    "## Date: 05/30/2021"
   ]
  },
  {
   "cell_type": "markdown",
   "metadata": {},
   "source": [
    "Thanks to the following sources whose's materials I used for this project\n",
    "\n",
    "https://learning.oreilly.com/library/view/hands-on-machine-learning/9781492032632/ch17.html\n",
    "\n",
    "Most of the code used are from Chapter 17 solution codes"
   ]
  },
  {
   "cell_type": "code",
   "execution_count": 1,
   "metadata": {
    "execution": {
     "iopub.execute_input": "2021-05-29T22:59:38.268707Z",
     "iopub.status.busy": "2021-05-29T22:59:38.268073Z",
     "iopub.status.idle": "2021-05-29T22:59:38.280843Z",
     "shell.execute_reply": "2021-05-29T22:59:38.279765Z",
     "shell.execute_reply.started": "2021-05-29T22:59:38.268640Z"
    }
   },
   "outputs": [],
   "source": [
    "# This Python 3 environment comes with many helpful analytics libraries installed\n",
    "# It is defined by the kaggle/python Docker image: https://github.com/kaggle/docker-python\n",
    "# For example, here's several helpful packages to load\n",
    "\n",
    "import numpy as np # linear algebra\n",
    "import pandas as pd # data processing, CSV file I/O (e.g. pd.read_csv)\n",
    "\n",
    "# Input data files are available in the read-only \"../input/\" directory\n",
    "# For example, running this (by clicking run or pressing Shift+Enter) will list all files under the input directory\n",
    "\n",
    "import os\n",
    "for dirname, _, filenames in os.walk('/kaggle/input'):\n",
    "    for filename in filenames:\n",
    "        print(os.path.join(dirname, filename))\n",
    "\n",
    "# You can write up to 20GB to the current directory (/kaggle/working/) that gets preserved as output when you create a version using \"Save & Run All\" \n",
    "# You can also write temporary files to /kaggle/temp/, but they won't be saved outside of the current session"
   ]
  },
  {
   "cell_type": "code",
   "execution_count": 1,
   "metadata": {
    "execution": {
     "iopub.execute_input": "2021-05-29T22:59:38.282927Z",
     "iopub.status.busy": "2021-05-29T22:59:38.282620Z",
     "iopub.status.idle": "2021-05-29T22:59:45.173604Z",
     "shell.execute_reply": "2021-05-29T22:59:45.171987Z",
     "shell.execute_reply.started": "2021-05-29T22:59:38.282896Z"
    }
   },
   "outputs": [
    {
     "name": "stdout",
     "output_type": "stream",
     "text": [
      "No GPU was detected. LSTMs and CNNs can be very slow without a GPU.\n"
     ]
    }
   ],
   "source": [
    "# Python ≥3.5 is required\n",
    "import sys\n",
    "assert sys.version_info >= (3, 5)\n",
    "\n",
    "# Scikit-Learn ≥0.20 is required\n",
    "import sklearn\n",
    "assert sklearn.__version__ >= \"0.20\"\n",
    "\n",
    "try:\n",
    "    # %tensorflow_version only exists in Colab.\n",
    "    %tensorflow_version 2.x\n",
    "    IS_COLAB = True\n",
    "except Exception:\n",
    "    IS_COLAB = False\n",
    "\n",
    "# TensorFlow ≥2.0 is required\n",
    "import tensorflow as tf\n",
    "from tensorflow import keras\n",
    "assert tf.__version__ >= \"2.0\"\n",
    "\n",
    "if not tf.config.list_physical_devices('GPU'):\n",
    "    print(\"No GPU was detected. LSTMs and CNNs can be very slow without a GPU.\")\n",
    "    if IS_COLAB:\n",
    "        print(\"Go to Runtime > Change runtime and select a GPU hardware accelerator.\")\n",
    "\n",
    "# Common imports\n",
    "import numpy as np\n",
    "import os\n",
    "\n",
    "# to make this notebook's output stable across runs\n",
    "np.random.seed(42)\n",
    "tf.random.set_seed(42)\n",
    "\n",
    "# To plot pretty figures\n",
    "%matplotlib inline\n",
    "import matplotlib as mpl\n",
    "import matplotlib.pyplot as plt\n",
    "mpl.rc('axes', labelsize=14)\n",
    "mpl.rc('xtick', labelsize=12)\n",
    "mpl.rc('ytick', labelsize=12)\n",
    "\n",
    "# Where to save the figures\n",
    "PROJECT_ROOT_DIR = \".\"\n",
    "CHAPTER_ID = \"autoencoders\"\n",
    "IMAGES_PATH = os.path.join(PROJECT_ROOT_DIR, \"images\", CHAPTER_ID)\n",
    "os.makedirs(IMAGES_PATH, exist_ok=True)\n",
    "\n",
    "def save_fig(fig_id, tight_layout=True, fig_extension=\"png\", resolution=300):\n",
    "    path = os.path.join(IMAGES_PATH, fig_id + \".\" + fig_extension)\n",
    "    print(\"Saving figure\", fig_id)\n",
    "    if tight_layout:\n",
    "        plt.tight_layout()\n",
    "    plt.savefig(path, format=fig_extension, dpi=resolution)"
   ]
  },
  {
   "cell_type": "code",
   "execution_count": 2,
   "metadata": {
    "execution": {
     "iopub.execute_input": "2021-05-29T22:59:45.176373Z",
     "iopub.status.busy": "2021-05-29T22:59:45.175916Z",
     "iopub.status.idle": "2021-05-29T22:59:45.300427Z",
     "shell.execute_reply": "2021-05-29T22:59:45.299334Z",
     "shell.execute_reply.started": "2021-05-29T22:59:45.176328Z"
    },
    "papermill": {
     "duration": 7.400139,
     "end_time": "2021-03-20T22:01:38.438205",
     "exception": false,
     "start_time": "2021-03-20T22:01:31.038066",
     "status": "completed"
    },
    "tags": []
   },
   "outputs": [],
   "source": [
    "import matplotlib.pyplot as plt \n",
    "import numpy as np\n",
    "import pandas as pd\n",
    "from tensorflow import keras\n",
    "import tensorflow.keras.layers\n",
    "import tensorflow.keras.models\n",
    "import tensorflow.keras.optimizers\n",
    "import tensorflow.keras.datasets\n",
    "\n",
    "from scipy.stats import reciprocal\n",
    "from sklearn.model_selection import RandomizedSearchCV\n",
    "from sklearn.metrics import make_scorer\n",
    "from sklearn.metrics import accuracy_score, precision_score, recall_score\n",
    "\n",
    "\n",
    "tensorflow.keras.backend.clear_session()\n",
    "np.random.seed(42)\n",
    "tensorflow.random.set_seed(42)\n"
   ]
  },
  {
   "cell_type": "markdown",
   "metadata": {
    "papermill": {
     "duration": 0.01258,
     "end_time": "2021-03-20T22:01:38.463626",
     "exception": false,
     "start_time": "2021-03-20T22:01:38.451046",
     "status": "completed"
    },
    "tags": []
   },
   "source": [
    "### Load Data"
   ]
  },
  {
   "cell_type": "code",
   "execution_count": 3,
   "metadata": {
    "execution": {
     "iopub.execute_input": "2021-05-29T22:59:45.302677Z",
     "iopub.status.busy": "2021-05-29T22:59:45.302290Z",
     "iopub.status.idle": "2021-05-29T22:59:51.118115Z",
     "shell.execute_reply": "2021-05-29T22:59:51.117025Z",
     "shell.execute_reply.started": "2021-05-29T22:59:45.302644Z"
    }
   },
   "outputs": [],
   "source": [
    "#train = pd.read_csv('input/Kannada-MNIST/train.csv')\n",
    "#test = pd.read_csv('input/Kannada-MNIST/test.csv')\n",
    "train = pd.read_csv('train_X.csv')\n",
    "train_y = pd.read_csv('train_y.csv')\n",
    "test = pd.read_csv('test_X.csv')"
   ]
  },
  {
   "cell_type": "code",
   "execution_count": 45,
   "metadata": {},
   "outputs": [],
   "source": [
    "test_y = pd.read_csv('test_y.csv')"
   ]
  },
  {
   "cell_type": "code",
   "execution_count": 4,
   "metadata": {
    "execution": {
     "iopub.execute_input": "2021-05-29T22:59:51.119859Z",
     "iopub.status.busy": "2021-05-29T22:59:51.119519Z",
     "iopub.status.idle": "2021-05-29T22:59:51.163955Z",
     "shell.execute_reply": "2021-05-29T22:59:51.162820Z",
     "shell.execute_reply.started": "2021-05-29T22:59:51.119828Z"
    }
   },
   "outputs": [
    {
     "data": {
      "text/html": [
       "<div>\n",
       "<style scoped>\n",
       "    .dataframe tbody tr th:only-of-type {\n",
       "        vertical-align: middle;\n",
       "    }\n",
       "\n",
       "    .dataframe tbody tr th {\n",
       "        vertical-align: top;\n",
       "    }\n",
       "\n",
       "    .dataframe thead th {\n",
       "        text-align: right;\n",
       "    }\n",
       "</style>\n",
       "<table border=\"1\" class=\"dataframe\">\n",
       "  <thead>\n",
       "    <tr style=\"text-align: right;\">\n",
       "      <th></th>\n",
       "      <th>checking_status0_X_200</th>\n",
       "      <th>checking_status_200</th>\n",
       "      <th>checking_statusno_checking</th>\n",
       "      <th>duration</th>\n",
       "      <th>credit_historyall_paid</th>\n",
       "      <th>credit_historyexisting_paid</th>\n",
       "      <th>credit_historydelayed_previously</th>\n",
       "      <th>credit_historycritical_other_existing_credit</th>\n",
       "      <th>purposeused_car</th>\n",
       "      <th>purposefurniture_equipment</th>\n",
       "      <th>...</th>\n",
       "      <th>other_payment_plansstores</th>\n",
       "      <th>other_payment_plansnone</th>\n",
       "      <th>housingown</th>\n",
       "      <th>housingforfree</th>\n",
       "      <th>existing_credits</th>\n",
       "      <th>jobunskilled_resident</th>\n",
       "      <th>jobskilled</th>\n",
       "      <th>jobhigh_qualif_self_emp_mgmt</th>\n",
       "      <th>num_dependents</th>\n",
       "      <th>own_telephoneyes</th>\n",
       "    </tr>\n",
       "  </thead>\n",
       "  <tbody>\n",
       "    <tr>\n",
       "      <th>0</th>\n",
       "      <td>0</td>\n",
       "      <td>0</td>\n",
       "      <td>0</td>\n",
       "      <td>0.029412</td>\n",
       "      <td>0</td>\n",
       "      <td>0</td>\n",
       "      <td>0</td>\n",
       "      <td>1</td>\n",
       "      <td>0</td>\n",
       "      <td>0</td>\n",
       "      <td>...</td>\n",
       "      <td>0</td>\n",
       "      <td>1</td>\n",
       "      <td>1</td>\n",
       "      <td>0</td>\n",
       "      <td>0.333333</td>\n",
       "      <td>0</td>\n",
       "      <td>1</td>\n",
       "      <td>0</td>\n",
       "      <td>0</td>\n",
       "      <td>1</td>\n",
       "    </tr>\n",
       "    <tr>\n",
       "      <th>1</th>\n",
       "      <td>0</td>\n",
       "      <td>0</td>\n",
       "      <td>0</td>\n",
       "      <td>0.029412</td>\n",
       "      <td>0</td>\n",
       "      <td>0</td>\n",
       "      <td>0</td>\n",
       "      <td>1</td>\n",
       "      <td>0</td>\n",
       "      <td>0</td>\n",
       "      <td>...</td>\n",
       "      <td>0</td>\n",
       "      <td>1</td>\n",
       "      <td>1</td>\n",
       "      <td>0</td>\n",
       "      <td>0.333333</td>\n",
       "      <td>0</td>\n",
       "      <td>1</td>\n",
       "      <td>0</td>\n",
       "      <td>0</td>\n",
       "      <td>1</td>\n",
       "    </tr>\n",
       "    <tr>\n",
       "      <th>2</th>\n",
       "      <td>0</td>\n",
       "      <td>0</td>\n",
       "      <td>0</td>\n",
       "      <td>0.029412</td>\n",
       "      <td>0</td>\n",
       "      <td>0</td>\n",
       "      <td>0</td>\n",
       "      <td>1</td>\n",
       "      <td>0</td>\n",
       "      <td>0</td>\n",
       "      <td>...</td>\n",
       "      <td>0</td>\n",
       "      <td>1</td>\n",
       "      <td>1</td>\n",
       "      <td>0</td>\n",
       "      <td>0.333333</td>\n",
       "      <td>0</td>\n",
       "      <td>1</td>\n",
       "      <td>0</td>\n",
       "      <td>0</td>\n",
       "      <td>1</td>\n",
       "    </tr>\n",
       "    <tr>\n",
       "      <th>3</th>\n",
       "      <td>0</td>\n",
       "      <td>0</td>\n",
       "      <td>0</td>\n",
       "      <td>0.029412</td>\n",
       "      <td>0</td>\n",
       "      <td>0</td>\n",
       "      <td>0</td>\n",
       "      <td>1</td>\n",
       "      <td>0</td>\n",
       "      <td>0</td>\n",
       "      <td>...</td>\n",
       "      <td>0</td>\n",
       "      <td>1</td>\n",
       "      <td>1</td>\n",
       "      <td>0</td>\n",
       "      <td>0.333333</td>\n",
       "      <td>0</td>\n",
       "      <td>1</td>\n",
       "      <td>0</td>\n",
       "      <td>0</td>\n",
       "      <td>1</td>\n",
       "    </tr>\n",
       "    <tr>\n",
       "      <th>4</th>\n",
       "      <td>0</td>\n",
       "      <td>0</td>\n",
       "      <td>0</td>\n",
       "      <td>0.029412</td>\n",
       "      <td>0</td>\n",
       "      <td>0</td>\n",
       "      <td>0</td>\n",
       "      <td>1</td>\n",
       "      <td>0</td>\n",
       "      <td>0</td>\n",
       "      <td>...</td>\n",
       "      <td>0</td>\n",
       "      <td>1</td>\n",
       "      <td>1</td>\n",
       "      <td>0</td>\n",
       "      <td>0.333333</td>\n",
       "      <td>0</td>\n",
       "      <td>1</td>\n",
       "      <td>0</td>\n",
       "      <td>0</td>\n",
       "      <td>1</td>\n",
       "    </tr>\n",
       "  </tbody>\n",
       "</table>\n",
       "<p>5 rows × 44 columns</p>\n",
       "</div>"
      ],
      "text/plain": [
       "   checking_status0_X_200  checking_status_200  checking_statusno_checking  \\\n",
       "0                       0                    0                           0   \n",
       "1                       0                    0                           0   \n",
       "2                       0                    0                           0   \n",
       "3                       0                    0                           0   \n",
       "4                       0                    0                           0   \n",
       "\n",
       "   duration  credit_historyall_paid  credit_historyexisting_paid  \\\n",
       "0  0.029412                       0                            0   \n",
       "1  0.029412                       0                            0   \n",
       "2  0.029412                       0                            0   \n",
       "3  0.029412                       0                            0   \n",
       "4  0.029412                       0                            0   \n",
       "\n",
       "   credit_historydelayed_previously  \\\n",
       "0                                 0   \n",
       "1                                 0   \n",
       "2                                 0   \n",
       "3                                 0   \n",
       "4                                 0   \n",
       "\n",
       "   credit_historycritical_other_existing_credit  purposeused_car  \\\n",
       "0                                             1                0   \n",
       "1                                             1                0   \n",
       "2                                             1                0   \n",
       "3                                             1                0   \n",
       "4                                             1                0   \n",
       "\n",
       "   purposefurniture_equipment  ...  other_payment_plansstores  \\\n",
       "0                           0  ...                          0   \n",
       "1                           0  ...                          0   \n",
       "2                           0  ...                          0   \n",
       "3                           0  ...                          0   \n",
       "4                           0  ...                          0   \n",
       "\n",
       "   other_payment_plansnone  housingown  housingforfree  existing_credits  \\\n",
       "0                        1           1               0          0.333333   \n",
       "1                        1           1               0          0.333333   \n",
       "2                        1           1               0          0.333333   \n",
       "3                        1           1               0          0.333333   \n",
       "4                        1           1               0          0.333333   \n",
       "\n",
       "   jobunskilled_resident  jobskilled  jobhigh_qualif_self_emp_mgmt  \\\n",
       "0                      0           1                             0   \n",
       "1                      0           1                             0   \n",
       "2                      0           1                             0   \n",
       "3                      0           1                             0   \n",
       "4                      0           1                             0   \n",
       "\n",
       "   num_dependents  own_telephoneyes  \n",
       "0               0                 1  \n",
       "1               0                 1  \n",
       "2               0                 1  \n",
       "3               0                 1  \n",
       "4               0                 1  \n",
       "\n",
       "[5 rows x 44 columns]"
      ]
     },
     "execution_count": 4,
     "metadata": {},
     "output_type": "execute_result"
    }
   ],
   "source": [
    "train.head()"
   ]
  },
  {
   "cell_type": "code",
   "execution_count": 5,
   "metadata": {
    "execution": {
     "iopub.execute_input": "2021-05-29T22:59:51.165830Z",
     "iopub.status.busy": "2021-05-29T22:59:51.165522Z",
     "iopub.status.idle": "2021-05-29T22:59:51.185806Z",
     "shell.execute_reply": "2021-05-29T22:59:51.184602Z",
     "shell.execute_reply.started": "2021-05-29T22:59:51.165803Z"
    }
   },
   "outputs": [
    {
     "data": {
      "text/html": [
       "<div>\n",
       "<style scoped>\n",
       "    .dataframe tbody tr th:only-of-type {\n",
       "        vertical-align: middle;\n",
       "    }\n",
       "\n",
       "    .dataframe tbody tr th {\n",
       "        vertical-align: top;\n",
       "    }\n",
       "\n",
       "    .dataframe thead th {\n",
       "        text-align: right;\n",
       "    }\n",
       "</style>\n",
       "<table border=\"1\" class=\"dataframe\">\n",
       "  <thead>\n",
       "    <tr style=\"text-align: right;\">\n",
       "      <th></th>\n",
       "      <th>checking_status0_X_200</th>\n",
       "      <th>checking_status_200</th>\n",
       "      <th>checking_statusno_checking</th>\n",
       "      <th>duration</th>\n",
       "      <th>credit_historyall_paid</th>\n",
       "      <th>credit_historyexisting_paid</th>\n",
       "      <th>credit_historydelayed_previously</th>\n",
       "      <th>credit_historycritical_other_existing_credit</th>\n",
       "      <th>purposeused_car</th>\n",
       "      <th>purposefurniture_equipment</th>\n",
       "      <th>...</th>\n",
       "      <th>other_payment_plansstores</th>\n",
       "      <th>other_payment_plansnone</th>\n",
       "      <th>housingown</th>\n",
       "      <th>housingforfree</th>\n",
       "      <th>existing_credits</th>\n",
       "      <th>jobunskilled_resident</th>\n",
       "      <th>jobskilled</th>\n",
       "      <th>jobhigh_qualif_self_emp_mgmt</th>\n",
       "      <th>num_dependents</th>\n",
       "      <th>own_telephoneyes</th>\n",
       "    </tr>\n",
       "  </thead>\n",
       "  <tbody>\n",
       "    <tr>\n",
       "      <th>0</th>\n",
       "      <td>0</td>\n",
       "      <td>0</td>\n",
       "      <td>0</td>\n",
       "      <td>0.029412</td>\n",
       "      <td>0</td>\n",
       "      <td>0</td>\n",
       "      <td>0</td>\n",
       "      <td>1</td>\n",
       "      <td>0</td>\n",
       "      <td>0</td>\n",
       "      <td>...</td>\n",
       "      <td>0</td>\n",
       "      <td>1</td>\n",
       "      <td>1</td>\n",
       "      <td>0</td>\n",
       "      <td>0.333333</td>\n",
       "      <td>0</td>\n",
       "      <td>1</td>\n",
       "      <td>0</td>\n",
       "      <td>0</td>\n",
       "      <td>1</td>\n",
       "    </tr>\n",
       "    <tr>\n",
       "      <th>1</th>\n",
       "      <td>0</td>\n",
       "      <td>0</td>\n",
       "      <td>0</td>\n",
       "      <td>0.029412</td>\n",
       "      <td>0</td>\n",
       "      <td>0</td>\n",
       "      <td>0</td>\n",
       "      <td>1</td>\n",
       "      <td>0</td>\n",
       "      <td>0</td>\n",
       "      <td>...</td>\n",
       "      <td>0</td>\n",
       "      <td>1</td>\n",
       "      <td>1</td>\n",
       "      <td>0</td>\n",
       "      <td>0.333333</td>\n",
       "      <td>0</td>\n",
       "      <td>1</td>\n",
       "      <td>0</td>\n",
       "      <td>0</td>\n",
       "      <td>1</td>\n",
       "    </tr>\n",
       "    <tr>\n",
       "      <th>2</th>\n",
       "      <td>0</td>\n",
       "      <td>0</td>\n",
       "      <td>0</td>\n",
       "      <td>0.029412</td>\n",
       "      <td>0</td>\n",
       "      <td>0</td>\n",
       "      <td>0</td>\n",
       "      <td>1</td>\n",
       "      <td>0</td>\n",
       "      <td>0</td>\n",
       "      <td>...</td>\n",
       "      <td>0</td>\n",
       "      <td>1</td>\n",
       "      <td>1</td>\n",
       "      <td>0</td>\n",
       "      <td>0.333333</td>\n",
       "      <td>0</td>\n",
       "      <td>1</td>\n",
       "      <td>0</td>\n",
       "      <td>0</td>\n",
       "      <td>1</td>\n",
       "    </tr>\n",
       "    <tr>\n",
       "      <th>3</th>\n",
       "      <td>0</td>\n",
       "      <td>0</td>\n",
       "      <td>0</td>\n",
       "      <td>0.029412</td>\n",
       "      <td>0</td>\n",
       "      <td>0</td>\n",
       "      <td>0</td>\n",
       "      <td>1</td>\n",
       "      <td>0</td>\n",
       "      <td>0</td>\n",
       "      <td>...</td>\n",
       "      <td>0</td>\n",
       "      <td>1</td>\n",
       "      <td>1</td>\n",
       "      <td>0</td>\n",
       "      <td>0.333333</td>\n",
       "      <td>0</td>\n",
       "      <td>1</td>\n",
       "      <td>0</td>\n",
       "      <td>0</td>\n",
       "      <td>1</td>\n",
       "    </tr>\n",
       "    <tr>\n",
       "      <th>4</th>\n",
       "      <td>0</td>\n",
       "      <td>0</td>\n",
       "      <td>0</td>\n",
       "      <td>0.029412</td>\n",
       "      <td>0</td>\n",
       "      <td>0</td>\n",
       "      <td>0</td>\n",
       "      <td>1</td>\n",
       "      <td>0</td>\n",
       "      <td>0</td>\n",
       "      <td>...</td>\n",
       "      <td>0</td>\n",
       "      <td>1</td>\n",
       "      <td>1</td>\n",
       "      <td>0</td>\n",
       "      <td>0.333333</td>\n",
       "      <td>0</td>\n",
       "      <td>1</td>\n",
       "      <td>0</td>\n",
       "      <td>0</td>\n",
       "      <td>1</td>\n",
       "    </tr>\n",
       "  </tbody>\n",
       "</table>\n",
       "<p>5 rows × 44 columns</p>\n",
       "</div>"
      ],
      "text/plain": [
       "   checking_status0_X_200  checking_status_200  checking_statusno_checking  \\\n",
       "0                       0                    0                           0   \n",
       "1                       0                    0                           0   \n",
       "2                       0                    0                           0   \n",
       "3                       0                    0                           0   \n",
       "4                       0                    0                           0   \n",
       "\n",
       "   duration  credit_historyall_paid  credit_historyexisting_paid  \\\n",
       "0  0.029412                       0                            0   \n",
       "1  0.029412                       0                            0   \n",
       "2  0.029412                       0                            0   \n",
       "3  0.029412                       0                            0   \n",
       "4  0.029412                       0                            0   \n",
       "\n",
       "   credit_historydelayed_previously  \\\n",
       "0                                 0   \n",
       "1                                 0   \n",
       "2                                 0   \n",
       "3                                 0   \n",
       "4                                 0   \n",
       "\n",
       "   credit_historycritical_other_existing_credit  purposeused_car  \\\n",
       "0                                             1                0   \n",
       "1                                             1                0   \n",
       "2                                             1                0   \n",
       "3                                             1                0   \n",
       "4                                             1                0   \n",
       "\n",
       "   purposefurniture_equipment  ...  other_payment_plansstores  \\\n",
       "0                           0  ...                          0   \n",
       "1                           0  ...                          0   \n",
       "2                           0  ...                          0   \n",
       "3                           0  ...                          0   \n",
       "4                           0  ...                          0   \n",
       "\n",
       "   other_payment_plansnone  housingown  housingforfree  existing_credits  \\\n",
       "0                        1           1               0          0.333333   \n",
       "1                        1           1               0          0.333333   \n",
       "2                        1           1               0          0.333333   \n",
       "3                        1           1               0          0.333333   \n",
       "4                        1           1               0          0.333333   \n",
       "\n",
       "   jobunskilled_resident  jobskilled  jobhigh_qualif_self_emp_mgmt  \\\n",
       "0                      0           1                             0   \n",
       "1                      0           1                             0   \n",
       "2                      0           1                             0   \n",
       "3                      0           1                             0   \n",
       "4                      0           1                             0   \n",
       "\n",
       "   num_dependents  own_telephoneyes  \n",
       "0               0                 1  \n",
       "1               0                 1  \n",
       "2               0                 1  \n",
       "3               0                 1  \n",
       "4               0                 1  \n",
       "\n",
       "[5 rows x 44 columns]"
      ]
     },
     "execution_count": 5,
     "metadata": {},
     "output_type": "execute_result"
    }
   ],
   "source": [
    "test.head()"
   ]
  },
  {
   "cell_type": "raw",
   "metadata": {
    "execution": {
     "iopub.execute_input": "2021-05-29T22:59:51.188026Z",
     "iopub.status.busy": "2021-05-29T22:59:51.187585Z",
     "iopub.status.idle": "2021-05-29T22:59:51.560481Z",
     "shell.execute_reply": "2021-05-29T22:59:51.559382Z",
     "shell.execute_reply.started": "2021-05-29T22:59:51.187965Z"
    }
   },
   "source": [
    "#x0_train = (train.drop(labels=['label'], axis=1).values / 255)\n",
    "#X_train_full = x0_train.reshape((x0_train.shape[0], 28, 28, 1))\n",
    "#X_train_full = train.reshape((train.shape[0], 28, 28, 1))\n",
    "\n",
    "y_train_full = tensorflow.keras.utils.to_categorical(train_y['credit.class'].values, 10)\n",
    "dfy = train_y[['credit.class']].to_numpy()\n",
    "\n",
    "x0_test = (test.drop(labels=['id'], axis=1).values / 255)\n",
    "X_test = x0_test.reshape((x0_test.shape[0], 28, 28, 1))\n",
    "\n",
    "\n",
    "X_train_full.shape, y_train_full.shape, X_test.shape, dfy.shape"
   ]
  },
  {
   "cell_type": "code",
   "execution_count": 8,
   "metadata": {
    "execution": {
     "iopub.execute_input": "2021-05-29T22:59:51.563279Z",
     "iopub.status.busy": "2021-05-29T22:59:51.562955Z",
     "iopub.status.idle": "2021-05-29T22:59:51.572081Z",
     "shell.execute_reply": "2021-05-29T22:59:51.570961Z",
     "shell.execute_reply.started": "2021-05-29T22:59:51.563250Z"
    }
   },
   "outputs": [
    {
     "data": {
      "text/plain": [
       "((42000, 28, 28, 1),\n",
       " (18000, 28, 28, 1),\n",
       " (42000, 10),\n",
       " (18000, 10),\n",
       " (42000, 1),\n",
       " (18000, 1))"
      ]
     },
     "execution_count": 8,
     "metadata": {},
     "output_type": "execute_result"
    }
   ],
   "source": [
    "X_train, X_valid = X_train_full[:-18000], X_train_full[-18000:]\n",
    "y_train, y_valid = y_train_full[:-18000], y_train_full[-18000:]\n",
    "dfy_train, dfy_valid = dfy[:-18000], dfy[-18000:]\n",
    "\n",
    "X_train.shape, X_valid.shape, y_train.shape, y_valid.shape, dfy_train.shape, dfy_valid.shape"
   ]
  },
  {
   "cell_type": "markdown",
   "metadata": {},
   "source": [
    "# Method 1: Train all layers at once"
   ]
  },
  {
   "cell_type": "markdown",
   "metadata": {},
   "source": [
    "Let's build a stacked Autoencoder with 3 hidden layers and 1 output layer (i.e., 2 stacked Autoencoders)."
   ]
  },
  {
   "cell_type": "code",
   "execution_count": 6,
   "metadata": {
    "execution": {
     "iopub.execute_input": "2021-05-29T22:59:51.574353Z",
     "iopub.status.busy": "2021-05-29T22:59:51.574039Z",
     "iopub.status.idle": "2021-05-29T22:59:51.582895Z",
     "shell.execute_reply": "2021-05-29T22:59:51.582093Z",
     "shell.execute_reply.started": "2021-05-29T22:59:51.574324Z"
    }
   },
   "outputs": [],
   "source": [
    "def rounded_accuracy(y_true, y_pred):\n",
    "    return keras.metrics.binary_accuracy(tf.round(y_true), tf.round(y_pred))"
   ]
  },
  {
   "cell_type": "code",
   "execution_count": 21,
   "metadata": {},
   "outputs": [],
   "source": [
    "#import keras\n",
    "#from keras import layers\n",
    "\n",
    "# This is the size of our encoded representations\n",
    "encoding_dim = 25  # 32 floats -> compression of factor 24.5, assuming the input is 784 floats\n",
    "\n",
    "input_img = keras.Input(shape =  (44,))\n",
    "# \"encoded\" is the encoded representation of the input\n",
    "encoded = keras.layers.Dense(encoding_dim, activation='relu')(input_img)\n",
    "\n",
    "encoder = keras.Model(input_img, encoded)\n",
    "# \"decoded\" is the lossy reconstruction of the input\n",
    "decoded = keras.layers.Dense(44, activation='sigmoid')(encoded)\n",
    "\n",
    "# This model maps an input to its reconstruction\n",
    "autoencoder = keras.Model(input_img, decoded)\n"
   ]
  },
  {
   "cell_type": "code",
   "execution_count": 22,
   "metadata": {},
   "outputs": [],
   "source": [
    "# This is our encoded (32-dimensional) input\n",
    "#encoded_input = keras.Input(shape=(encoding_dim,))\n",
    "# Retrieve the last layer of the autoencoder model\n",
    "#decoder_layer = autoencoder.layers[-1]\n",
    "# Create the decoder model\n",
    "#decoder = keras.Model(encoded_input, decoder_layer(encoded_input))\n",
    "\n",
    "autoencoder.compile(optimizer='adam', loss='binary_crossentropy')\n"
   ]
  },
  {
   "cell_type": "raw",
   "metadata": {},
   "source": [
    "autoencoder.fit(train_X, train_X,\n",
    "                epochs=50,\n",
    "                batch_size=5000,\n",
    "                shuffle=True,\n",
    "                validation_data=(valid_X, valid_X))\n"
   ]
  },
  {
   "cell_type": "code",
   "execution_count": 23,
   "metadata": {
    "execution": {
     "iopub.execute_input": "2021-05-29T22:59:51.584332Z",
     "iopub.status.busy": "2021-05-29T22:59:51.583909Z",
     "iopub.status.idle": "2021-05-29T23:01:55.207754Z",
     "shell.execute_reply": "2021-05-29T23:01:55.206794Z",
     "shell.execute_reply.started": "2021-05-29T22:59:51.584301Z"
    }
   },
   "outputs": [
    {
     "name": "stdout",
     "output_type": "stream",
     "text": [
      "Epoch 1/20\n",
      "25000/25000 [==============================] - 28s 1ms/step - loss: 0.0699 - val_loss: 0.0557\n",
      "Epoch 2/20\n",
      "25000/25000 [==============================] - 29s 1ms/step - loss: 0.0556 - val_loss: 0.0554\n",
      "Epoch 3/20\n",
      "25000/25000 [==============================] - 30s 1ms/step - loss: 0.0554 - val_loss: 0.0553\n",
      "Epoch 4/20\n",
      "25000/25000 [==============================] - 29s 1ms/step - loss: 0.0554 - val_loss: 0.0553\n",
      "Epoch 5/20\n",
      "25000/25000 [==============================] - 29s 1ms/step - loss: 0.0553 - val_loss: 0.0553\n",
      "Epoch 6/20\n",
      "25000/25000 [==============================] - 28s 1ms/step - loss: 0.0553 - val_loss: 0.0553\n",
      "Epoch 7/20\n",
      "25000/25000 [==============================] - 27s 1ms/step - loss: 0.0553 - val_loss: 0.0553\n",
      "Epoch 8/20\n",
      "25000/25000 [==============================] - 26s 1ms/step - loss: 0.0553 - val_loss: 0.0553\n",
      "Epoch 9/20\n",
      "25000/25000 [==============================] - 25s 1ms/step - loss: 0.0553 - val_loss: 0.0553\n",
      "Epoch 10/20\n",
      "25000/25000 [==============================] - 27s 1ms/step - loss: 0.0553 - val_loss: 0.0552\n",
      "Epoch 11/20\n",
      "25000/25000 [==============================] - 24s 970us/step - loss: 0.0552 - val_loss: 0.0552\n",
      "Epoch 12/20\n",
      "25000/25000 [==============================] - 27s 1ms/step - loss: 0.0552 - val_loss: 0.0552\n",
      "Epoch 13/20\n",
      "25000/25000 [==============================] - 27s 1ms/step - loss: 0.0552 - val_loss: 0.0552\n",
      "Epoch 14/20\n",
      "25000/25000 [==============================] - 30s 1ms/step - loss: 0.0552 - val_loss: 0.0552\n",
      "Epoch 15/20\n",
      "25000/25000 [==============================] - 26s 1ms/step - loss: 0.0552 - val_loss: 0.0552\n",
      "Epoch 16/20\n",
      "25000/25000 [==============================] - 26s 1ms/step - loss: 0.0552 - val_loss: 0.0551\n",
      "Epoch 17/20\n",
      "25000/25000 [==============================] - 26s 1ms/step - loss: 0.0551 - val_loss: 0.0551\n",
      "Epoch 18/20\n",
      "25000/25000 [==============================] - 29s 1ms/step - loss: 0.0551 - val_loss: 0.0550\n",
      "Epoch 19/20\n",
      "25000/25000 [==============================] - 25s 1ms/step - loss: 0.0551 - val_loss: 0.0550\n",
      "Epoch 20/20\n",
      "25000/25000 [==============================] - 30s 1ms/step - loss: 0.0550 - val_loss: 0.0550\n"
     ]
    }
   ],
   "source": [
    "tensorflow.random.set_seed(42)\n",
    "np.random.seed(42)\n",
    "import tensorflow as tf\n",
    "\n",
    "\n",
    "history = autoencoder.fit(train, train, epochs=20,validation_data=(test, test))"
   ]
  },
  {
   "cell_type": "code",
   "execution_count": 25,
   "metadata": {},
   "outputs": [
    {
     "data": {
      "image/png": "[encoded data removed]",
      "text/plain": [
       "<Figure size 576x360 with 1 Axes>"
      ]
     },
     "metadata": {
      "needs_background": "light"
     },
     "output_type": "display_data"
    }
   ],
   "source": [
    "pd.DataFrame(history.history).plot(figsize=(8, 5))\n",
    "plt.grid(True)\n",
    "plt.gca().set_ylim(0,2)\n",
    "plt.show()"
   ]
  },
  {
   "cell_type": "markdown",
   "metadata": {},
   "source": [
    "This function processes a few test images through the autoencoder and displays the original images and their reconstructions:"
   ]
  },
  {
   "cell_type": "raw",
   "metadata": {
    "execution": {
     "iopub.execute_input": "2021-05-29T23:01:55.209505Z",
     "iopub.status.busy": "2021-05-29T23:01:55.209211Z",
     "iopub.status.idle": "2021-05-29T23:01:55.216474Z",
     "shell.execute_reply": "2021-05-29T23:01:55.215350Z",
     "shell.execute_reply.started": "2021-05-29T23:01:55.209476Z"
    }
   },
   "source": [
    "def show_reconstructions(model, images=X_valid, n_images=10):\n",
    "    reconstructions = model.predict(images[:n_images])\n",
    "    fig = plt.figure(figsize=(n_images * 1.5, 3))\n",
    "    for image_index in range(n_images):\n",
    "        plt.subplot(2, n_images, 1 + image_index)\n",
    "        plot_image(images[image_index])\n",
    "        plt.subplot(2, n_images, 1 + n_images + image_index)\n",
    "        plot_image(reconstructions[image_index])\n",
    "        \n",
    "\n",
    "# A couple utility functions to plot grayscale 28x28 image:\n",
    "def plot_image(image):\n",
    "    plt.imshow(image, cmap=\"binary\")\n",
    "    plt.axis(\"off\")"
   ]
  },
  {
   "cell_type": "markdown",
   "metadata": {},
   "source": [
    "### Visualizing Kannada-MNIST Before and After Encoding/Decoding"
   ]
  },
  {
   "cell_type": "raw",
   "metadata": {
    "execution": {
     "iopub.execute_input": "2021-05-29T23:01:55.218189Z",
     "iopub.status.busy": "2021-05-29T23:01:55.217738Z",
     "iopub.status.idle": "2021-05-29T23:01:55.782541Z",
     "shell.execute_reply": "2021-05-29T23:01:55.781592Z",
     "shell.execute_reply.started": "2021-05-29T23:01:55.218156Z"
    }
   },
   "source": [
    "show_reconstructions(stacked_ae)\n",
    "#save_fig(\"reconstruction_plot\")"
   ]
  },
  {
   "cell_type": "code",
   "execution_count": null,
   "metadata": {
    "execution": {
     "iopub.execute_input": "2021-05-29T23:01:55.784369Z",
     "iopub.status.busy": "2021-05-29T23:01:55.783936Z",
     "iopub.status.idle": "2021-05-29T23:03:53.424796Z",
     "shell.execute_reply": "2021-05-29T23:03:53.423897Z",
     "shell.execute_reply.started": "2021-05-29T23:01:55.784324Z"
    }
   },
   "outputs": [],
   "source": [
    "np.random.seed(42)\n",
    "\n",
    "from sklearn.manifold import TSNE\n",
    "\n",
    "X_valid_compressed = autoencoder.predict(test)\n",
    "tsne = TSNE()\n",
    "X_valid_2D = tsne.fit_transform(X_valid_compressed)\n",
    "X_valid_2D = (X_valid_2D - X_valid_2D.min()) / (X_valid_2D.max() - X_valid_2D.min())"
   ]
  },
  {
   "cell_type": "code",
   "execution_count": 15,
   "metadata": {
    "execution": {
     "iopub.execute_input": "2021-05-29T23:03:53.426877Z",
     "iopub.status.busy": "2021-05-29T23:03:53.426272Z",
     "iopub.status.idle": "2021-05-29T23:03:53.716720Z",
     "shell.execute_reply": "2021-05-29T23:03:53.715809Z",
     "shell.execute_reply.started": "2021-05-29T23:03:53.426837Z"
    }
   },
   "outputs": [
    {
     "data": {
      "image/png": "[encoded data removed]",
      "text/plain": [
       "<Figure size 432x288 with 1 Axes>"
      ]
     },
     "metadata": {
      "needs_background": "light"
     },
     "output_type": "display_data"
    }
   ],
   "source": [
    "plt.scatter(X_valid_2D[:, 0], X_valid_2D[:, 1], c=dfy_valid, s=10, cmap=\"tab10\")\n",
    "plt.axis(\"off\")\n",
    "plt.show()"
   ]
  },
  {
   "cell_type": "markdown",
   "metadata": {},
   "source": [
    "Let's make this diagram a bit prettier:"
   ]
  },
  {
   "cell_type": "markdown",
   "metadata": {},
   "source": [
    "# Prediction using Encoded images"
   ]
  },
  {
   "cell_type": "code",
   "execution_count": 28,
   "metadata": {
    "execution": {
     "iopub.execute_input": "2021-05-29T23:03:53.718542Z",
     "iopub.status.busy": "2021-05-29T23:03:53.718183Z",
     "iopub.status.idle": "2021-05-29T23:03:57.910509Z",
     "shell.execute_reply": "2021-05-29T23:03:57.909246Z",
     "shell.execute_reply.started": "2021-05-29T23:03:53.718509Z"
    }
   },
   "outputs": [],
   "source": [
    "ae_train = autoencoder.predict(train)\n",
    "ae_test = autoencoder.predict(test)"
   ]
  },
  {
   "cell_type": "markdown",
   "metadata": {},
   "source": [
    "### Using RandomForest Classifier"
   ]
  },
  {
   "cell_type": "code",
   "execution_count": 34,
   "metadata": {},
   "outputs": [
    {
     "data": {
      "text/plain": [
       "(800000, 44)"
      ]
     },
     "execution_count": 34,
     "metadata": {},
     "output_type": "execute_result"
    }
   ],
   "source": [
    "nx, ny = ae_train.shape\n",
    "nx, ny"
   ]
  },
  {
   "cell_type": "code",
   "execution_count": 35,
   "metadata": {},
   "outputs": [
    {
     "data": {
      "text/plain": [
       "(200000, 44)"
      ]
     },
     "execution_count": 35,
     "metadata": {},
     "output_type": "execute_result"
    }
   ],
   "source": [
    "nx, ny = ae_test.shape\n",
    "nx, ny"
   ]
  },
  {
   "cell_type": "code",
   "execution_count": 38,
   "metadata": {},
   "outputs": [
    {
     "data": {
      "text/plain": [
       "(35200000,)"
      ]
     },
     "execution_count": 38,
     "metadata": {},
     "output_type": "execute_result"
    }
   ],
   "source": [
    "ae_train2.shape"
   ]
  },
  {
   "cell_type": "code",
   "execution_count": null,
   "metadata": {},
   "outputs": [],
   "source": [
    "%%time\n",
    "from sklearn.ensemble import RandomForestClassifier\n",
    "\n",
    "rf_clf = RandomForestClassifier(max_features = 'sqrt', n_estimators=10, bootstrap=True, random_state=42)\n",
    "\n",
    "nx, ny = ae_train.shape\n",
    "ae_train2 = ae_train.reshape((nx*ny))\n",
    "\n",
    "#dfy = dfy.reshape(nsamples)\n",
    "\n",
    "\n",
    "nx, ny = ae_test.shape\n",
    "ae_test2 = ae_test.reshape((nx*ny))\n",
    "\n",
    "\n",
    "\n",
    "rf_clf.fit(ae_train2,train_y)\n",
    "y_test = rf_clf.predict(ae_test2)"
   ]
  },
  {
   "cell_type": "code",
   "execution_count": 17,
   "metadata": {
    "execution": {
     "iopub.execute_input": "2021-05-29T23:03:57.912599Z",
     "iopub.status.busy": "2021-05-29T23:03:57.912138Z",
     "iopub.status.idle": "2021-05-29T23:04:24.078371Z",
     "shell.execute_reply": "2021-05-29T23:04:24.077217Z",
     "shell.execute_reply.started": "2021-05-29T23:03:57.912553Z"
    }
   },
   "outputs": [
    {
     "name": "stdout",
     "output_type": "stream",
     "text": [
      "Wall time: 21.5 s\n"
     ]
    }
   ],
   "source": [
    "%%time\n",
    "from sklearn.ensemble import RandomForestClassifier\n",
    "\n",
    "rf_clf = RandomForestClassifier(max_features = 'sqrt', n_estimators=10, bootstrap=True, random_state=42)\n",
    "\n",
    "nsamples, nx, ny = ae_train.shape\n",
    "ae_train2 = ae_train.reshape((nsamples,nx*ny))\n",
    "\n",
    "dfy = dfy.reshape(nsamples)\n",
    "\n",
    "\n",
    "nsamples, nx, ny = ae_test.shape\n",
    "ae_test2 = ae_test.reshape((nsamples,nx*ny))\n",
    "\n",
    "\n",
    "\n",
    "rf_clf.fit(ae_train2,dfy)\n",
    "y_test = rf_clf.predict(ae_test2)"
   ]
  },
  {
   "cell_type": "code",
   "execution_count": 18,
   "metadata": {
    "execution": {
     "iopub.execute_input": "2021-05-29T23:04:24.079969Z",
     "iopub.status.busy": "2021-05-29T23:04:24.079674Z",
     "iopub.status.idle": "2021-05-29T23:04:24.096183Z",
     "shell.execute_reply": "2021-05-29T23:04:24.094740Z",
     "shell.execute_reply.started": "2021-05-29T23:04:24.079941Z"
    }
   },
   "outputs": [],
   "source": [
    "# Read in sample_submission dataframe\n",
    "submission = pd.read_csv(\"input/Kannada-MNIST/sample_submission.csv\")"
   ]
  },
  {
   "cell_type": "code",
   "execution_count": 19,
   "metadata": {
    "execution": {
     "iopub.execute_input": "2021-05-29T23:04:24.097848Z",
     "iopub.status.busy": "2021-05-29T23:04:24.097544Z",
     "iopub.status.idle": "2021-05-29T23:04:24.105278Z",
     "shell.execute_reply": "2021-05-29T23:04:24.104311Z",
     "shell.execute_reply.started": "2021-05-29T23:04:24.097819Z"
    }
   },
   "outputs": [],
   "source": [
    "submission=pd.DataFrame({\"id\": list(range(0,len(y_test))),\"label\": y_test})\n",
    "#submission.to_csv(\"submission.csv\", index=False, header=True)"
   ]
  },
  {
   "cell_type": "code",
   "execution_count": 20,
   "metadata": {
    "execution": {
     "iopub.execute_input": "2021-05-29T23:04:24.106988Z",
     "iopub.status.busy": "2021-05-29T23:04:24.106690Z",
     "iopub.status.idle": "2021-05-29T23:04:24.123406Z",
     "shell.execute_reply": "2021-05-29T23:04:24.122654Z",
     "shell.execute_reply.started": "2021-05-29T23:04:24.106958Z"
    }
   },
   "outputs": [
    {
     "data": {
      "text/html": [
       "<div>\n",
       "<style scoped>\n",
       "    .dataframe tbody tr th:only-of-type {\n",
       "        vertical-align: middle;\n",
       "    }\n",
       "\n",
       "    .dataframe tbody tr th {\n",
       "        vertical-align: top;\n",
       "    }\n",
       "\n",
       "    .dataframe thead th {\n",
       "        text-align: right;\n",
       "    }\n",
       "</style>\n",
       "<table border=\"1\" class=\"dataframe\">\n",
       "  <thead>\n",
       "    <tr style=\"text-align: right;\">\n",
       "      <th></th>\n",
       "      <th>id</th>\n",
       "      <th>label</th>\n",
       "    </tr>\n",
       "  </thead>\n",
       "  <tbody>\n",
       "    <tr>\n",
       "      <th>0</th>\n",
       "      <td>0</td>\n",
       "      <td>3</td>\n",
       "    </tr>\n",
       "    <tr>\n",
       "      <th>1</th>\n",
       "      <td>1</td>\n",
       "      <td>0</td>\n",
       "    </tr>\n",
       "    <tr>\n",
       "      <th>2</th>\n",
       "      <td>2</td>\n",
       "      <td>2</td>\n",
       "    </tr>\n",
       "    <tr>\n",
       "      <th>3</th>\n",
       "      <td>3</td>\n",
       "      <td>6</td>\n",
       "    </tr>\n",
       "    <tr>\n",
       "      <th>4</th>\n",
       "      <td>4</td>\n",
       "      <td>7</td>\n",
       "    </tr>\n",
       "  </tbody>\n",
       "</table>\n",
       "</div>"
      ],
      "text/plain": [
       "   id  label\n",
       "0   0      3\n",
       "1   1      0\n",
       "2   2      2\n",
       "3   3      6\n",
       "4   4      7"
      ]
     },
     "execution_count": 20,
     "metadata": {},
     "output_type": "execute_result"
    }
   ],
   "source": [
    "submission.head()"
   ]
  },
  {
   "cell_type": "code",
   "execution_count": 56,
   "metadata": {},
   "outputs": [],
   "source": [
    "train_y['x'] = pd.get_dummies(train_y['x'], drop_first=True)"
   ]
  },
  {
   "cell_type": "code",
   "execution_count": 57,
   "metadata": {},
   "outputs": [
    {
     "name": "stderr",
     "output_type": "stream",
     "text": [
      "C:\\Users\\nbinw\\anaconda3\\envs\\tf2\\lib\\site-packages\\sklearn\\utils\\validation.py:63: DataConversionWarning: A column-vector y was passed when a 1d array was expected. Please change the shape of y to (n_samples, ), for example using ravel().\n",
      "  return f(*args, **kwargs)\n"
     ]
    },
    {
     "name": "stdout",
     "output_type": "stream",
     "text": [
      "Training Set Score: 70.000\n"
     ]
    }
   ],
   "source": [
    "\n",
    "from sklearn.linear_model import LogisticRegression\n",
    "\n",
    "\n",
    "log_model = LogisticRegression(penalty = \"l2\", solver = \"lbfgs\", C=1.5,fit_intercept = True, max_iter=1500, \n",
    "                               multi_class ='auto', warm_start = True)\n",
    "log_model.fit(ae_train, train_y)\n",
    "print(\"Training Set Score: {:.3f}\".format(log_model.score(ae_train, train_y)*100))\n",
    "\n"
   ]
  },
  {
   "cell_type": "code",
   "execution_count": 58,
   "metadata": {},
   "outputs": [
    {
     "data": {
      "text/html": [
       "<div>\n",
       "<style scoped>\n",
       "    .dataframe tbody tr th:only-of-type {\n",
       "        vertical-align: middle;\n",
       "    }\n",
       "\n",
       "    .dataframe tbody tr th {\n",
       "        vertical-align: top;\n",
       "    }\n",
       "\n",
       "    .dataframe thead th {\n",
       "        text-align: right;\n",
       "    }\n",
       "</style>\n",
       "<table border=\"1\" class=\"dataframe\">\n",
       "  <thead>\n",
       "    <tr style=\"text-align: right;\">\n",
       "      <th></th>\n",
       "      <th>x</th>\n",
       "    </tr>\n",
       "  </thead>\n",
       "  <tbody>\n",
       "    <tr>\n",
       "      <th>0</th>\n",
       "      <td>1</td>\n",
       "    </tr>\n",
       "    <tr>\n",
       "      <th>1</th>\n",
       "      <td>0</td>\n",
       "    </tr>\n",
       "    <tr>\n",
       "      <th>2</th>\n",
       "      <td>1</td>\n",
       "    </tr>\n",
       "    <tr>\n",
       "      <th>3</th>\n",
       "      <td>1</td>\n",
       "    </tr>\n",
       "    <tr>\n",
       "      <th>4</th>\n",
       "      <td>0</td>\n",
       "    </tr>\n",
       "  </tbody>\n",
       "</table>\n",
       "</div>"
      ],
      "text/plain": [
       "   x\n",
       "0  1\n",
       "1  0\n",
       "2  1\n",
       "3  1\n",
       "4  0"
      ]
     },
     "execution_count": 58,
     "metadata": {},
     "output_type": "execute_result"
    }
   ],
   "source": [
    "train_y.head()"
   ]
  },
  {
   "cell_type": "code",
   "execution_count": 53,
   "metadata": {},
   "outputs": [],
   "source": [
    "\n",
    "test_y['V1'] = pd.get_dummies(test_y['V1'], drop_first=True)\n"
   ]
  },
  {
   "cell_type": "code",
   "execution_count": 59,
   "metadata": {},
   "outputs": [
    {
     "name": "stdout",
     "output_type": "stream",
     "text": [
      "Train_Test Set Score: 70.000\n"
     ]
    },
    {
     "data": {
      "text/plain": [
       "50.0"
      ]
     },
     "execution_count": 59,
     "metadata": {},
     "output_type": "execute_result"
    }
   ],
   "source": [
    "from sklearn.metrics import roc_auc_score\n",
    "\n",
    "\n",
    "predictions = log_model.predict(ae_test)\n",
    "print(\"Train_Test Set Score: {:.3f}\".format(log_model.score(ae_test, test_y)*100))\n",
    "acc_log = round(roc_auc_score(test_y, predictions)*100 , 2)\n",
    "acc_log"
   ]
  },
  {
   "cell_type": "code",
   "execution_count": 65,
   "metadata": {},
   "outputs": [
    {
     "ename": "ModuleNotFoundError",
     "evalue": "No module named 'scikitplot'",
     "output_type": "error",
     "traceback": [
      "\u001b[1;31m---------------------------------------------------------------------------\u001b[0m",
      "\u001b[1;31mModuleNotFoundError\u001b[0m                       Traceback (most recent call last)",
      "\u001b[1;32m<ipython-input-65-6635fcd1b1a8>\u001b[0m in \u001b[0;36m<module>\u001b[1;34m\u001b[0m\n\u001b[0;32m      2\u001b[0m \u001b[1;32mfrom\u001b[0m \u001b[0msklearn\u001b[0m\u001b[1;33m.\u001b[0m\u001b[0mmetrics\u001b[0m \u001b[1;32mimport\u001b[0m \u001b[0mroc_curve\u001b[0m\u001b[1;33m,\u001b[0m \u001b[0mauc\u001b[0m\u001b[1;33m\u001b[0m\u001b[1;33m\u001b[0m\u001b[0m\n\u001b[0;32m      3\u001b[0m \u001b[1;32mfrom\u001b[0m \u001b[0msklearn\u001b[0m\u001b[1;33m.\u001b[0m\u001b[0mmetrics\u001b[0m \u001b[1;32mimport\u001b[0m \u001b[0mclassification_report\u001b[0m\u001b[1;33m\u001b[0m\u001b[1;33m\u001b[0m\u001b[0m\n\u001b[1;32m----> 4\u001b[1;33m \u001b[1;32mimport\u001b[0m \u001b[0mscikitplot\u001b[0m \u001b[1;32mas\u001b[0m \u001b[0mskplt\u001b[0m\u001b[1;33m\u001b[0m\u001b[1;33m\u001b[0m\u001b[0m\n\u001b[0m\u001b[0;32m      5\u001b[0m \u001b[1;33m\u001b[0m\u001b[0m\n\u001b[0;32m      6\u001b[0m \u001b[0mskplt\u001b[0m\u001b[1;33m.\u001b[0m\u001b[0mmetrics\u001b[0m\u001b[1;33m.\u001b[0m\u001b[0mplot_confusion_matrix\u001b[0m\u001b[1;33m(\u001b[0m\u001b[0mtest_y\u001b[0m\u001b[1;33m,\u001b[0m \u001b[0mpredictions\u001b[0m\u001b[1;33m,\u001b[0m \u001b[0mnormalize\u001b[0m\u001b[1;33m=\u001b[0m\u001b[1;32mFalse\u001b[0m\u001b[1;33m)\u001b[0m\u001b[1;33m\u001b[0m\u001b[1;33m\u001b[0m\u001b[0m\n",
      "\u001b[1;31mModuleNotFoundError\u001b[0m: No module named 'scikitplot'"
     ]
    }
   ],
   "source": [
    "from sklearn.metrics import confusion_matrix\n",
    "from sklearn.metrics import roc_curve, auc\n",
    "from sklearn.metrics import classification_report\n",
    "import scikitplot as skplt\n",
    "\n",
    "skplt.metrics.plot_confusion_matrix(test_y, predictions, normalize=False)\n",
    "from sklearn.metrics import confusion_matrix\n",
    "\n",
    "\n",
    "print(classification_report(test_y,predictions))\n",
    "print(confusion_matrix(test_y,predictions))\n"
   ]
  },
  {
   "cell_type": "code",
   "execution_count": 67,
   "metadata": {},
   "outputs": [
    {
     "data": {
      "text/plain": [
       "Text(0.5, 1.0, 'Precision-Recall')"
      ]
     },
     "execution_count": 67,
     "metadata": {},
     "output_type": "execute_result"
    },
    {
     "data": {
      "image/png": "[encoded data removed]",
      "text/plain": [
       "<Figure size 432x288 with 1 Axes>"
      ]
     },
     "metadata": {
      "needs_background": "light"
     },
     "output_type": "display_data"
    }
   ],
   "source": [
    "from sklearn.metrics import precision_recall_curve\n",
    "\n",
    "precisions, recalls, thresholds = precision_recall_curve(test_y, predictions)\n",
    "plt.plot(recalls, precisions, label = 'prec-recall')\n",
    "plt.xlabel('recall')\n",
    "plt.ylabel('precision')\n",
    "plt.legend(loc=\"upper right\")\n",
    "plt.title(\"Precision-Recall\")\n"
   ]
  },
  {
   "cell_type": "code",
   "execution_count": null,
   "metadata": {},
   "outputs": [],
   "source": []
  },
  {
   "cell_type": "code",
   "execution_count": null,
   "metadata": {},
   "outputs": [],
   "source": []
  },
  {
   "cell_type": "code",
   "execution_count": null,
   "metadata": {},
   "outputs": [],
   "source": []
  },
  {
   "cell_type": "markdown",
   "metadata": {},
   "source": [
    "### Using Neural Networks"
   ]
  },
  {
   "cell_type": "code",
   "execution_count": 21,
   "metadata": {
    "execution": {
     "iopub.execute_input": "2021-05-29T23:04:24.126158Z",
     "iopub.status.busy": "2021-05-29T23:04:24.125770Z",
     "iopub.status.idle": "2021-05-29T23:04:24.179927Z",
     "shell.execute_reply": "2021-05-29T23:04:24.178966Z",
     "shell.execute_reply.started": "2021-05-29T23:04:24.126127Z"
    }
   },
   "outputs": [],
   "source": [
    "# Define the loss function Going to Lock this Loss Function\n",
    "loss_fn = tf.keras.losses.SparseCategoricalCrossentropy(from_logits=True)\n",
    "\n",
    "model1 = tf.keras.models.Sequential([\n",
    "  tf.keras.layers.Flatten(input_shape=[28, 28]),\n",
    "  tf.keras.layers.Dense(500, activation='relu'),\n",
    "  #tf.keras.layers.Dropout(0.2),\n",
    "  #  tf.keras.layers.Dense(500, activation='relu'),\n",
    "  tf.keras.layers.Dense(350, activation='relu'),\n",
    "  tf.keras.layers.Dense(100, activation='relu'),\n",
    "  # I don't know what this does...\n",
    "  #tf.keras.layers.Dropout(0.2),\n",
    "  tf.keras.layers.Dense(10, activation=\"softmax\")\n",
    "])\n"
   ]
  },
  {
   "cell_type": "code",
   "execution_count": 22,
   "metadata": {
    "execution": {
     "iopub.execute_input": "2021-05-29T23:04:24.182517Z",
     "iopub.status.busy": "2021-05-29T23:04:24.182097Z",
     "iopub.status.idle": "2021-05-29T23:04:24.197793Z",
     "shell.execute_reply": "2021-05-29T23:04:24.197034Z",
     "shell.execute_reply.started": "2021-05-29T23:04:24.182472Z"
    }
   },
   "outputs": [],
   "source": [
    "# How do we optomize the loss function and what do we measure\n",
    "model1.compile(optimizer='adam',\n",
    "              loss=loss_fn,\n",
    "              metrics=['accuracy'])"
   ]
  },
  {
   "cell_type": "code",
   "execution_count": 23,
   "metadata": {
    "execution": {
     "iopub.execute_input": "2021-05-29T23:04:24.199250Z",
     "iopub.status.busy": "2021-05-29T23:04:24.198950Z",
     "iopub.status.idle": "2021-05-29T23:07:43.430650Z",
     "shell.execute_reply": "2021-05-29T23:07:43.429495Z",
     "shell.execute_reply.started": "2021-05-29T23:04:24.199222Z"
    }
   },
   "outputs": [
    {
     "name": "stdout",
     "output_type": "stream",
     "text": [
      "Epoch 1/20\n",
      "WARNING:tensorflow:Model was constructed with shape (None, 28, 28) for input Tensor(\"flatten_1_input:0\", shape=(None, 28, 28), dtype=float32), but it was called on an input with incompatible shape (32, 784).\n",
      "WARNING:tensorflow:Model was constructed with shape (None, 28, 28) for input Tensor(\"flatten_1_input:0\", shape=(None, 28, 28), dtype=float32), but it was called on an input with incompatible shape (32, 784).\n",
      "1875/1875 [==============================] - 6s 3ms/step - loss: 1.5201 - accuracy: 0.9440 - val_loss: 1.5008 - val_accuracy: 0.9605\n",
      "Epoch 2/20\n",
      "1875/1875 [==============================] - 6s 3ms/step - loss: 1.5012 - accuracy: 0.9597 - val_loss: 1.4804 - val_accuracy: 0.9807\n",
      "Epoch 3/20\n",
      "1875/1875 [==============================] - 6s 3ms/step - loss: 1.4972 - accuracy: 0.9639 - val_loss: 1.4805 - val_accuracy: 0.9806\n",
      "Epoch 4/20\n",
      "1875/1875 [==============================] - 6s 3ms/step - loss: 1.4970 - accuracy: 0.9640 - val_loss: 1.4855 - val_accuracy: 0.9756\n",
      "Epoch 5/20\n",
      "1875/1875 [==============================] - 6s 3ms/step - loss: 1.4961 - accuracy: 0.9649 - val_loss: 1.4781 - val_accuracy: 0.9829\n",
      "Epoch 6/20\n",
      "1875/1875 [==============================] - 6s 3ms/step - loss: 1.4950 - accuracy: 0.9661 - val_loss: 1.4785 - val_accuracy: 0.9827\n",
      "Epoch 7/20\n",
      "1875/1875 [==============================] - 6s 3ms/step - loss: 1.4957 - accuracy: 0.9653 - val_loss: 1.4819 - val_accuracy: 0.9792\n",
      "Epoch 8/20\n",
      "1875/1875 [==============================] - 6s 3ms/step - loss: 1.4952 - accuracy: 0.9660 - val_loss: 1.4828 - val_accuracy: 0.9783\n",
      "Epoch 9/20\n",
      "1875/1875 [==============================] - 6s 3ms/step - loss: 1.4997 - accuracy: 0.9614 - val_loss: 1.4904 - val_accuracy: 0.9706\n",
      "Epoch 10/20\n",
      "1875/1875 [==============================] - 6s 3ms/step - loss: 1.4980 - accuracy: 0.9630 - val_loss: 1.4940 - val_accuracy: 0.9672\n",
      "Epoch 11/20\n",
      "1875/1875 [==============================] - 6s 3ms/step - loss: 1.4983 - accuracy: 0.9628 - val_loss: 1.4835 - val_accuracy: 0.9776\n",
      "Epoch 12/20\n",
      "1875/1875 [==============================] - 6s 3ms/step - loss: 1.5051 - accuracy: 0.9560 - val_loss: 1.5067 - val_accuracy: 0.9546\n",
      "Epoch 13/20\n",
      "1875/1875 [==============================] - 6s 3ms/step - loss: 1.4992 - accuracy: 0.9619 - val_loss: 1.4977 - val_accuracy: 0.9634\n",
      "Epoch 14/20\n",
      "1875/1875 [==============================] - 6s 3ms/step - loss: 1.5007 - accuracy: 0.9603 - val_loss: 1.4938 - val_accuracy: 0.9673\n",
      "Epoch 15/20\n",
      "1875/1875 [==============================] - 6s 3ms/step - loss: 1.4995 - accuracy: 0.9617 - val_loss: 1.4881 - val_accuracy: 0.9730\n",
      "Epoch 16/20\n",
      "1875/1875 [==============================] - 6s 3ms/step - loss: 1.4996 - accuracy: 0.9615 - val_loss: 1.4896 - val_accuracy: 0.9716\n",
      "Epoch 17/20\n",
      "1875/1875 [==============================] - 6s 3ms/step - loss: 1.5032 - accuracy: 0.9580 - val_loss: 1.4779 - val_accuracy: 0.9832\n",
      "Epoch 18/20\n",
      "1875/1875 [==============================] - 6s 3ms/step - loss: 1.4995 - accuracy: 0.9617 - val_loss: 1.4828 - val_accuracy: 0.9783\n",
      "Epoch 19/20\n",
      "1875/1875 [==============================] - 6s 3ms/step - loss: 1.5044 - accuracy: 0.9567 - val_loss: 1.4847 - val_accuracy: 0.9764\n",
      "Epoch 20/20\n",
      "1875/1875 [==============================] - 6s 3ms/step - loss: 1.4999 - accuracy: 0.9613 - val_loss: 1.4957 - val_accuracy: 0.9654\n"
     ]
    }
   ],
   "source": [
    "history = model1.fit(ae_train2, dfy, epochs=20, validation_data=(X_valid, dfy_valid))"
   ]
  },
  {
   "cell_type": "code",
   "execution_count": 24,
   "metadata": {},
   "outputs": [
    {
     "data": {
      "image/png": "[encoded data removed]",
      "text/plain": [
       "<Figure size 576x360 with 1 Axes>"
      ]
     },
     "metadata": {
      "needs_background": "light"
     },
     "output_type": "display_data"
    }
   ],
   "source": [
    "pd.DataFrame(history.history).plot(figsize=(8, 5))\n",
    "plt.grid(True)\n",
    "plt.gca().set_ylim(0,2)\n",
    "plt.show()"
   ]
  },
  {
   "cell_type": "markdown",
   "metadata": {},
   "source": [
    "### Submission"
   ]
  },
  {
   "cell_type": "code",
   "execution_count": 25,
   "metadata": {
    "execution": {
     "iopub.execute_input": "2021-05-29T23:07:43.436566Z",
     "iopub.status.busy": "2021-05-29T23:07:43.436219Z",
     "iopub.status.idle": "2021-05-29T23:07:44.163769Z",
     "shell.execute_reply": "2021-05-29T23:07:44.162952Z",
     "shell.execute_reply.started": "2021-05-29T23:07:43.436536Z"
    }
   },
   "outputs": [
    {
     "name": "stdout",
     "output_type": "stream",
     "text": [
      "WARNING:tensorflow:Model was constructed with shape (None, 28, 28) for input Tensor(\"flatten_1_input:0\", shape=(None, 28, 28), dtype=float32), but it was called on an input with incompatible shape (None, 784).\n"
     ]
    },
    {
     "data": {
      "text/html": [
       "<div>\n",
       "<style scoped>\n",
       "    .dataframe tbody tr th:only-of-type {\n",
       "        vertical-align: middle;\n",
       "    }\n",
       "\n",
       "    .dataframe tbody tr th {\n",
       "        vertical-align: top;\n",
       "    }\n",
       "\n",
       "    .dataframe thead th {\n",
       "        text-align: right;\n",
       "    }\n",
       "</style>\n",
       "<table border=\"1\" class=\"dataframe\">\n",
       "  <thead>\n",
       "    <tr style=\"text-align: right;\">\n",
       "      <th></th>\n",
       "      <th>id</th>\n",
       "      <th>label</th>\n",
       "    </tr>\n",
       "  </thead>\n",
       "  <tbody>\n",
       "    <tr>\n",
       "      <th>0</th>\n",
       "      <td>0</td>\n",
       "      <td>3</td>\n",
       "    </tr>\n",
       "    <tr>\n",
       "      <th>1</th>\n",
       "      <td>1</td>\n",
       "      <td>0</td>\n",
       "    </tr>\n",
       "    <tr>\n",
       "      <th>2</th>\n",
       "      <td>2</td>\n",
       "      <td>2</td>\n",
       "    </tr>\n",
       "    <tr>\n",
       "      <th>3</th>\n",
       "      <td>3</td>\n",
       "      <td>6</td>\n",
       "    </tr>\n",
       "    <tr>\n",
       "      <th>4</th>\n",
       "      <td>4</td>\n",
       "      <td>7</td>\n",
       "    </tr>\n",
       "  </tbody>\n",
       "</table>\n",
       "</div>"
      ],
      "text/plain": [
       "   id  label\n",
       "0   0      3\n",
       "1   1      0\n",
       "2   2      2\n",
       "3   3      6\n",
       "4   4      7"
      ]
     },
     "execution_count": 25,
     "metadata": {},
     "output_type": "execute_result"
    }
   ],
   "source": [
    "y_test = model1.predict(ae_test2)\n",
    "\n",
    "# Read in sample_submission dataframe\n",
    "submission = pd.read_csv(\"input/Kannada-MNIST/sample_submission.csv\")\n",
    "\n",
    "# Append predictions from blended models\n",
    "submission.iloc[:,1] = np.argmax(model1.predict(ae_test2), axis=-1)\n",
    "#submission.to_csv(\"submission.csv\", index=False)\n",
    "\n",
    "submission.head()"
   ]
  },
  {
   "cell_type": "markdown",
   "metadata": {},
   "source": [
    "# Method 2: Tying weights"
   ]
  },
  {
   "cell_type": "markdown",
   "metadata": {},
   "source": [
    "It is common to tie the weights of the encoder and the decoder, by simply using the transpose of the encoder's weights as the decoder weights. For this, we need to use a custom layer."
   ]
  },
  {
   "cell_type": "code",
   "execution_count": 26,
   "metadata": {
    "execution": {
     "iopub.execute_input": "2021-05-29T23:07:44.166206Z",
     "iopub.status.busy": "2021-05-29T23:07:44.165742Z",
     "iopub.status.idle": "2021-05-29T23:07:44.173691Z",
     "shell.execute_reply": "2021-05-29T23:07:44.172377Z",
     "shell.execute_reply.started": "2021-05-29T23:07:44.166172Z"
    }
   },
   "outputs": [],
   "source": [
    "class DenseTranspose(keras.layers.Layer):\n",
    "    def __init__(self, dense, activation=None, **kwargs):\n",
    "        self.dense = dense\n",
    "        self.activation = keras.activations.get(activation)\n",
    "        super().__init__(**kwargs)\n",
    "    def build(self, batch_input_shape):\n",
    "        self.biases = self.add_weight(name=\"bias\",\n",
    "                                      shape=[self.dense.input_shape[-1]],\n",
    "                                      initializer=\"zeros\")\n",
    "        super().build(batch_input_shape)\n",
    "    def call(self, inputs):\n",
    "        z = tf.matmul(inputs, self.dense.weights[0], transpose_b=True)\n",
    "        return self.activation(z + self.biases)"
   ]
  },
  {
   "cell_type": "code",
   "execution_count": 27,
   "metadata": {
    "execution": {
     "iopub.execute_input": "2021-05-29T23:07:44.175115Z",
     "iopub.status.busy": "2021-05-29T23:07:44.174811Z",
     "iopub.status.idle": "2021-05-29T23:10:58.861888Z",
     "shell.execute_reply": "2021-05-29T23:10:58.860903Z",
     "shell.execute_reply.started": "2021-05-29T23:07:44.175086Z"
    }
   },
   "outputs": [
    {
     "name": "stdout",
     "output_type": "stream",
     "text": [
      "Epoch 1/30\n",
      "1313/1313 [==============================] - 3s 3ms/step - loss: 0.1653 - rounded_accuracy: 0.9275 - val_loss: 0.1330 - val_rounded_accuracy: 0.9420: 1s - los - ETA: 0s - l\n",
      "Epoch 2/30\n",
      "1313/1313 [==============================] - 3s 2ms/step - loss: 0.1238 - rounded_accuracy: 0.9476 - val_loss: 0.1193 - val_rounded_accuracy: 0.9500: 1s - loss: 0.1288 - rounded_accu\n",
      "Epoch 3/30\n",
      "1313/1313 [==============================] - 3s 3ms/step - loss: 0.1144 - rounded_accuracy: 0.9530 - val_loss: 0.1122 - val_rounded_accuracy: 0.9543\n",
      "Epoch 4/30\n",
      "1313/1313 [==============================] - 4s 3ms/step - loss: 0.1092 - rounded_accuracy: 0.9561 - val_loss: 0.1088 - val_rounded_accuracy: 0.9565\n",
      "Epoch 5/30\n",
      "1313/1313 [==============================] - 3s 2ms/step - loss: 0.1066 - rounded_accuracy: 0.9576 - val_loss: 0.1074 - val_rounded_accuracy: 0.9568\n",
      "Epoch 6/30\n",
      "1313/1313 [==============================] - 3s 2ms/step - loss: 0.1052 - rounded_accuracy: 0.9584 - val_loss: 0.1056 - val_rounded_accuracy: 0.9584ac - ETA: 0s - l\n",
      "Epoch 7/30\n",
      "1313/1313 [==============================] - 3s 2ms/step - loss: 0.1041 - rounded_accuracy: 0.9589 - val_loss: 0.1045 - val_rounded_accuracy: 0.9587\n",
      "Epoch 8/30\n",
      "1313/1313 [==============================] - 3s 2ms/step - loss: 0.1032 - rounded_accuracy: 0.9593 - val_loss: 0.1033 - val_rounded_accuracy: 0.9594\n",
      "Epoch 9/30\n",
      "1313/1313 [==============================] - 4s 3ms/step - loss: 0.1025 - rounded_accuracy: 0.9597 - val_loss: 0.1028 - val_rounded_accuracy: 0.9597\n",
      "Epoch 10/30\n",
      "1313/1313 [==============================] - 4s 3ms/step - loss: 0.1018 - rounded_accuracy: 0.9601 - val_loss: 0.1032 - val_rounded_accuracy: 0.9597\n",
      "Epoch 11/30\n",
      "1313/1313 [==============================] - 3s 3ms/step - loss: 0.1012 - rounded_accuracy: 0.9604 - val_loss: 0.1017 - val_rounded_accuracy: 0.9604\n",
      "Epoch 12/30\n",
      "1313/1313 [==============================] - 4s 3ms/step - loss: 0.1007 - rounded_accuracy: 0.9606 - val_loss: 0.1017 - val_rounded_accuracy: 0.9600\n",
      "Epoch 13/30\n",
      "1313/1313 [==============================] - 3s 3ms/step - loss: 0.1002 - rounded_accuracy: 0.9609 - val_loss: 0.1008 - val_rounded_accuracy: 0.9608\n",
      "Epoch 14/30\n",
      "1313/1313 [==============================] - 3s 2ms/step - loss: 0.0998 - rounded_accuracy: 0.9611 - val_loss: 0.1006 - val_rounded_accuracy: 0.9611\n",
      "Epoch 15/30\n",
      "1313/1313 [==============================] - 3s 2ms/step - loss: 0.0993 - rounded_accuracy: 0.9614 - val_loss: 0.1000 - val_rounded_accuracy: 0.9613\n",
      "Epoch 16/30\n",
      "1313/1313 [==============================] - 3s 2ms/step - loss: 0.0989 - rounded_accuracy: 0.9616 - val_loss: 0.0993 - val_rounded_accuracy: 0.9617\n",
      "Epoch 17/30\n",
      "1313/1313 [==============================] - 3s 2ms/step - loss: 0.0986 - rounded_accuracy: 0.9618 - val_loss: 0.0992 - val_rounded_accuracy: 0.9615\n",
      "Epoch 18/30\n",
      "1313/1313 [==============================] - 3s 2ms/step - loss: 0.0982 - rounded_accuracy: 0.9620 - val_loss: 0.1004 - val_rounded_accuracy: 0.9611\n",
      "Epoch 19/30\n",
      "1313/1313 [==============================] - 3s 2ms/step - loss: 0.0978 - rounded_accuracy: 0.9622 - val_loss: 0.0989 - val_rounded_accuracy: 0.9619\n",
      "Epoch 20/30\n",
      "1313/1313 [==============================] - 3s 2ms/step - loss: 0.0975 - rounded_accuracy: 0.9624 - val_loss: 0.0988 - val_rounded_accuracy: 0.9621 0.0976 - rounded_ - ETA: 0s - loss: 0.0976 - rounded_accuracy: 0.96 - ETA: 0s - loss: 0.0976 - \n",
      "Epoch 21/30\n",
      "1313/1313 [==============================] - 3s 2ms/step - loss: 0.0971 - rounded_accuracy: 0.9626 - val_loss: 0.0977 - val_rounded_accuracy: 0.96241s - loss: 0.0973 - ro - ETA: 0s - loss: 0.0972 - rounde - ETA: 0s - loss: 0.0971 - rounded_accuracy: 0.96\n",
      "Epoch 22/30\n",
      "1313/1313 [==============================] - 3s 2ms/step - loss: 0.0969 - rounded_accuracy: 0.9627 - val_loss: 0.0974 - val_rounded_accuracy: 0.9626\n",
      "Epoch 23/30\n",
      "1313/1313 [==============================] - 3s 2ms/step - loss: 0.0965 - rounded_accuracy: 0.9629 - val_loss: 0.0976 - val_rounded_accuracy: 0.9626\n",
      "Epoch 24/30\n",
      "1313/1313 [==============================] - 3s 2ms/step - loss: 0.0963 - rounded_accuracy: 0.9630 - val_loss: 0.0978 - val_rounded_accuracy: 0.9626\n",
      "Epoch 25/30\n",
      "1313/1313 [==============================] - 3s 2ms/step - loss: 0.0961 - rounded_accuracy: 0.9632 - val_loss: 0.0966 - val_rounded_accuracy: 0.9630\n",
      "Epoch 26/30\n",
      "1313/1313 [==============================] - 3s 2ms/step - loss: 0.0958 - rounded_accuracy: 0.9633 - val_loss: 0.0965 - val_rounded_accuracy: 0.9632\n",
      "Epoch 27/30\n",
      "1313/1313 [==============================] - 3s 2ms/step - loss: 0.0956 - rounded_accuracy: 0.9634 - val_loss: 0.0967 - val_rounded_accuracy: 0.9629\n",
      "Epoch 28/30\n",
      "1313/1313 [==============================] - 3s 2ms/step - loss: 0.0955 - rounded_accuracy: 0.9635 - val_loss: 0.0966 - val_rounded_accuracy: 0.9633\n",
      "Epoch 29/30\n",
      "1313/1313 [==============================] - 3s 2ms/step - loss: 0.0952 - rounded_accuracy: 0.9636 - val_loss: 0.0963 - val_rounded_accuracy: 0.9631\n",
      "Epoch 30/30\n",
      "1313/1313 [==============================] - 3s 2ms/step - loss: 0.0951 - rounded_accuracy: 0.9637 - val_loss: 0.0997 - val_rounded_accuracy: 0.9606\n"
     ]
    }
   ],
   "source": [
    "keras.backend.clear_session()\n",
    "tf.random.set_seed(42)\n",
    "np.random.seed(42)\n",
    "\n",
    "dense_1 = keras.layers.Dense(100, activation=\"selu\")\n",
    "dense_2 = keras.layers.Dense(30, activation=\"selu\")\n",
    "\n",
    "tied_encoder = keras.models.Sequential([\n",
    "    keras.layers.Flatten(input_shape=[28, 28]),\n",
    "    dense_1,\n",
    "    dense_2\n",
    "])\n",
    "\n",
    "tied_decoder = keras.models.Sequential([\n",
    "    DenseTranspose(dense_2, activation=\"selu\"),\n",
    "    DenseTranspose(dense_1, activation=\"sigmoid\"),\n",
    "    keras.layers.Reshape([28, 28])\n",
    "])\n",
    "\n",
    "tied_ae = keras.models.Sequential([tied_encoder, tied_decoder])\n",
    "\n",
    "tied_ae.compile(loss=\"binary_crossentropy\",\n",
    "                optimizer=keras.optimizers.SGD(lr=1.5), metrics=[rounded_accuracy])\n",
    "history = tied_ae.fit(X_train, X_train, epochs=30,\n",
    "                      validation_data=(X_valid, X_valid))"
   ]
  },
  {
   "cell_type": "code",
   "execution_count": 28,
   "metadata": {},
   "outputs": [
    {
     "data": {
      "image/png": "[encoded data removed]",
      "text/plain": [
       "<Figure size 576x360 with 1 Axes>"
      ]
     },
     "metadata": {
      "needs_background": "light"
     },
     "output_type": "display_data"
    }
   ],
   "source": [
    "pd.DataFrame(history.history).plot(figsize=(8, 5))\n",
    "plt.grid(True)\n",
    "plt.gca().set_ylim(0,2)\n",
    "plt.show()"
   ]
  },
  {
   "cell_type": "code",
   "execution_count": 29,
   "metadata": {
    "execution": {
     "iopub.execute_input": "2021-05-29T23:10:58.863709Z",
     "iopub.status.busy": "2021-05-29T23:10:58.863425Z",
     "iopub.status.idle": "2021-05-29T23:10:59.363750Z",
     "shell.execute_reply": "2021-05-29T23:10:59.362698Z",
     "shell.execute_reply.started": "2021-05-29T23:10:58.863682Z"
    }
   },
   "outputs": [
    {
     "data": {
      "image/png": "[encoded data removed]",
      "text/plain": [
       "<Figure size 1080x216 with 20 Axes>"
      ]
     },
     "metadata": {
      "needs_background": "light"
     },
     "output_type": "display_data"
    }
   ],
   "source": [
    "show_reconstructions(tied_ae)\n",
    "plt.show()"
   ]
  },
  {
   "cell_type": "markdown",
   "metadata": {},
   "source": [
    "## Prediction using Encoded images"
   ]
  },
  {
   "cell_type": "code",
   "execution_count": 30,
   "metadata": {
    "execution": {
     "iopub.execute_input": "2021-05-29T23:10:59.365461Z",
     "iopub.status.busy": "2021-05-29T23:10:59.365159Z",
     "iopub.status.idle": "2021-05-29T23:11:03.610290Z",
     "shell.execute_reply": "2021-05-29T23:11:03.609274Z",
     "shell.execute_reply.started": "2021-05-29T23:10:59.365432Z"
    }
   },
   "outputs": [],
   "source": [
    "ae_train = tied_ae.predict(X_train_full)\n",
    "ae_test = tied_ae.predict(X_test)"
   ]
  },
  {
   "cell_type": "markdown",
   "metadata": {},
   "source": [
    "### Using RandomForest Classifier"
   ]
  },
  {
   "cell_type": "code",
   "execution_count": 31,
   "metadata": {
    "execution": {
     "iopub.execute_input": "2021-05-29T23:11:03.612175Z",
     "iopub.status.busy": "2021-05-29T23:11:03.611720Z",
     "iopub.status.idle": "2021-05-29T23:11:28.574418Z",
     "shell.execute_reply": "2021-05-29T23:11:28.573203Z",
     "shell.execute_reply.started": "2021-05-29T23:11:03.612130Z"
    }
   },
   "outputs": [
    {
     "name": "stdout",
     "output_type": "stream",
     "text": [
      "Wall time: 19.1 s\n"
     ]
    }
   ],
   "source": [
    "%%time\n",
    "from sklearn.ensemble import RandomForestClassifier\n",
    "\n",
    "rf_clf = RandomForestClassifier(max_features = 'sqrt', n_estimators=10, bootstrap=True, random_state=42)\n",
    "\n",
    "nsamples, nx, ny = ae_train.shape\n",
    "ae_train2 = ae_train.reshape((nsamples,nx*ny))\n",
    "\n",
    "dfy = dfy.reshape(nsamples)\n",
    "\n",
    "\n",
    "nsamples, nx, ny = ae_test.shape\n",
    "ae_test2 = ae_test.reshape((nsamples,nx*ny))\n",
    "\n",
    "\n",
    "\n",
    "rf_clf.fit(ae_train2,dfy)\n",
    "y_test = rf_clf.predict(ae_test2)"
   ]
  },
  {
   "cell_type": "markdown",
   "metadata": {},
   "source": [
    "## Submission"
   ]
  },
  {
   "cell_type": "code",
   "execution_count": 32,
   "metadata": {
    "execution": {
     "iopub.execute_input": "2021-05-29T23:11:28.576615Z",
     "iopub.status.busy": "2021-05-29T23:11:28.576197Z",
     "iopub.status.idle": "2021-05-29T23:11:28.587906Z",
     "shell.execute_reply": "2021-05-29T23:11:28.586906Z",
     "shell.execute_reply.started": "2021-05-29T23:11:28.576570Z"
    }
   },
   "outputs": [],
   "source": [
    "# Read in sample_submission dataframe\n",
    "submission = pd.read_csv(\"input/Kannada-MNIST/sample_submission.csv\")"
   ]
  },
  {
   "cell_type": "code",
   "execution_count": 33,
   "metadata": {
    "execution": {
     "iopub.execute_input": "2021-05-29T23:11:28.589810Z",
     "iopub.status.busy": "2021-05-29T23:11:28.589365Z",
     "iopub.status.idle": "2021-05-29T23:11:28.599098Z",
     "shell.execute_reply": "2021-05-29T23:11:28.597805Z",
     "shell.execute_reply.started": "2021-05-29T23:11:28.589762Z"
    }
   },
   "outputs": [],
   "source": [
    "submission=pd.DataFrame({\"id\": list(range(0,len(y_test))), \"label\": y_test})\n",
    "#submission.to_csv(\"submission.csv\", index=False, header=True)"
   ]
  },
  {
   "cell_type": "code",
   "execution_count": 34,
   "metadata": {
    "execution": {
     "iopub.execute_input": "2021-05-29T23:11:28.601176Z",
     "iopub.status.busy": "2021-05-29T23:11:28.600711Z",
     "iopub.status.idle": "2021-05-29T23:11:28.615516Z",
     "shell.execute_reply": "2021-05-29T23:11:28.614603Z",
     "shell.execute_reply.started": "2021-05-29T23:11:28.601125Z"
    }
   },
   "outputs": [
    {
     "data": {
      "text/html": [
       "<div>\n",
       "<style scoped>\n",
       "    .dataframe tbody tr th:only-of-type {\n",
       "        vertical-align: middle;\n",
       "    }\n",
       "\n",
       "    .dataframe tbody tr th {\n",
       "        vertical-align: top;\n",
       "    }\n",
       "\n",
       "    .dataframe thead th {\n",
       "        text-align: right;\n",
       "    }\n",
       "</style>\n",
       "<table border=\"1\" class=\"dataframe\">\n",
       "  <thead>\n",
       "    <tr style=\"text-align: right;\">\n",
       "      <th></th>\n",
       "      <th>id</th>\n",
       "      <th>label</th>\n",
       "    </tr>\n",
       "  </thead>\n",
       "  <tbody>\n",
       "    <tr>\n",
       "      <th>0</th>\n",
       "      <td>0</td>\n",
       "      <td>3</td>\n",
       "    </tr>\n",
       "    <tr>\n",
       "      <th>1</th>\n",
       "      <td>1</td>\n",
       "      <td>0</td>\n",
       "    </tr>\n",
       "    <tr>\n",
       "      <th>2</th>\n",
       "      <td>2</td>\n",
       "      <td>2</td>\n",
       "    </tr>\n",
       "    <tr>\n",
       "      <th>3</th>\n",
       "      <td>3</td>\n",
       "      <td>6</td>\n",
       "    </tr>\n",
       "    <tr>\n",
       "      <th>4</th>\n",
       "      <td>4</td>\n",
       "      <td>7</td>\n",
       "    </tr>\n",
       "  </tbody>\n",
       "</table>\n",
       "</div>"
      ],
      "text/plain": [
       "   id  label\n",
       "0   0      3\n",
       "1   1      0\n",
       "2   2      2\n",
       "3   3      6\n",
       "4   4      7"
      ]
     },
     "execution_count": 34,
     "metadata": {},
     "output_type": "execute_result"
    }
   ],
   "source": [
    "submission.head()"
   ]
  },
  {
   "cell_type": "markdown",
   "metadata": {},
   "source": [
    "### Using Neural Networks"
   ]
  },
  {
   "cell_type": "code",
   "execution_count": 35,
   "metadata": {
    "execution": {
     "iopub.execute_input": "2021-05-29T23:11:28.617340Z",
     "iopub.status.busy": "2021-05-29T23:11:28.616987Z",
     "iopub.status.idle": "2021-05-29T23:11:28.671967Z",
     "shell.execute_reply": "2021-05-29T23:11:28.671205Z",
     "shell.execute_reply.started": "2021-05-29T23:11:28.617301Z"
    }
   },
   "outputs": [],
   "source": [
    "# Define the loss function Going to Lock this Loss Function\n",
    "loss_fn = tf.keras.losses.SparseCategoricalCrossentropy(from_logits=True)\n",
    "\n",
    "model2 = tf.keras.models.Sequential([\n",
    "  tf.keras.layers.Flatten(input_shape=[28, 28]),\n",
    "  tf.keras.layers.Dense(500, activation='relu'),\n",
    "  tf.keras.layers.Dense(350, activation='relu'),\n",
    "  tf.keras.layers.Dense(100, activation='relu'),\n",
    "  tf.keras.layers.Dense(10, activation=\"softmax\")\n",
    "])"
   ]
  },
  {
   "cell_type": "code",
   "execution_count": 36,
   "metadata": {
    "execution": {
     "iopub.execute_input": "2021-05-29T23:11:28.673685Z",
     "iopub.status.busy": "2021-05-29T23:11:28.673191Z",
     "iopub.status.idle": "2021-05-29T23:14:52.336301Z",
     "shell.execute_reply": "2021-05-29T23:14:52.335222Z",
     "shell.execute_reply.started": "2021-05-29T23:11:28.673653Z"
    }
   },
   "outputs": [
    {
     "name": "stdout",
     "output_type": "stream",
     "text": [
      "Epoch 1/20\n",
      "WARNING:tensorflow:Model was constructed with shape (None, 28, 28) for input Tensor(\"flatten_1_input:0\", shape=(None, 28, 28), dtype=float32), but it was called on an input with incompatible shape (32, 784).\n",
      "WARNING:tensorflow:Model was constructed with shape (None, 28, 28) for input Tensor(\"flatten_1_input:0\", shape=(None, 28, 28), dtype=float32), but it was called on an input with incompatible shape (32, 784).\n",
      "1875/1875 [==============================] - 6s 3ms/step - loss: 1.5298 - accuracy: 0.9339 - val_loss: 1.4890 - val_accuracy: 0.9724\n",
      "Epoch 2/20\n",
      "1875/1875 [==============================] - 5s 3ms/step - loss: 1.4959 - accuracy: 0.9652 - val_loss: 1.4786 - val_accuracy: 0.9825\n",
      "Epoch 3/20\n",
      "1875/1875 [==============================] - 6s 3ms/step - loss: 1.4919 - accuracy: 0.9690 - val_loss: 1.4818 - val_accuracy: 0.9792\n",
      "Epoch 4/20\n",
      "1875/1875 [==============================] - 5s 3ms/step - loss: 1.4926 - accuracy: 0.9686 - val_loss: 1.4833 - val_accuracy: 0.9778\n",
      "Epoch 5/20\n",
      "1875/1875 [==============================] - 6s 3ms/step - loss: 1.4911 - accuracy: 0.9699 - val_loss: 1.4766 - val_accuracy: 0.9846\n",
      "Epoch 6/20\n",
      "1875/1875 [==============================] - 6s 3ms/step - loss: 1.4924 - accuracy: 0.9687 - val_loss: 1.4808 - val_accuracy: 0.9802\n",
      "Epoch 7/20\n",
      "1875/1875 [==============================] - 6s 3ms/step - loss: 1.4948 - accuracy: 0.9663 - val_loss: 1.4807 - val_accuracy: 0.9806\n",
      "Epoch 8/20\n",
      "1875/1875 [==============================] - 6s 3ms/step - loss: 1.4923 - accuracy: 0.9688 - val_loss: 1.4806 - val_accuracy: 0.9806\n",
      "Epoch 9/20\n",
      "1875/1875 [==============================] - 6s 3ms/step - loss: 1.4889 - accuracy: 0.9722 - val_loss: 1.4850 - val_accuracy: 0.9761\n",
      "Epoch 10/20\n",
      "1875/1875 [==============================] - 6s 3ms/step - loss: 1.4954 - accuracy: 0.9658 - val_loss: 1.4902 - val_accuracy: 0.9709\n",
      "Epoch 11/20\n",
      "1875/1875 [==============================] - 6s 3ms/step - loss: 1.4909 - accuracy: 0.9702 - val_loss: 1.4777 - val_accuracy: 0.9834\n",
      "Epoch 12/20\n",
      "1875/1875 [==============================] - 6s 3ms/step - loss: 1.4915 - accuracy: 0.9697 - val_loss: 1.4826 - val_accuracy: 0.9785\n",
      "Epoch 13/20\n",
      "1875/1875 [==============================] - 6s 3ms/step - loss: 1.4903 - accuracy: 0.9708 - val_loss: 1.4801 - val_accuracy: 0.9811\n",
      "Epoch 14/20\n",
      "1875/1875 [==============================] - 6s 3ms/step - loss: 1.4965 - accuracy: 0.9646 - val_loss: 1.4781 - val_accuracy: 0.9830\n",
      "Epoch 15/20\n",
      "1875/1875 [==============================] - 5s 3ms/step - loss: 1.4948 - accuracy: 0.9662 - val_loss: 1.4844 - val_accuracy: 0.9767\n",
      "Epoch 16/20\n",
      "1875/1875 [==============================] - 6s 3ms/step - loss: 1.4967 - accuracy: 0.9644 - val_loss: 1.4775 - val_accuracy: 0.9836\n",
      "Epoch 17/20\n",
      "1875/1875 [==============================] - 6s 3ms/step - loss: 1.4935 - accuracy: 0.9676 - val_loss: 1.5019 - val_accuracy: 0.9592\n",
      "Epoch 18/20\n",
      "1875/1875 [==============================] - 6s 3ms/step - loss: 1.4980 - accuracy: 0.9631 - val_loss: 1.4845 - val_accuracy: 0.9767\n",
      "Epoch 19/20\n",
      "1875/1875 [==============================] - 6s 3ms/step - loss: 1.4943 - accuracy: 0.9668 - val_loss: 1.4788 - val_accuracy: 0.9824\n",
      "Epoch 20/20\n",
      "1875/1875 [==============================] - 6s 3ms/step - loss: 1.4902 - accuracy: 0.9710 - val_loss: 1.4817 - val_accuracy: 0.9794\n"
     ]
    }
   ],
   "source": [
    "# How do we optomize the loss function and what do we measure\n",
    "model2.compile(optimizer='adam',\n",
    "              loss=loss_fn,\n",
    "              metrics=['accuracy'])\n",
    "\n",
    "\n",
    "history = model2.fit(ae_train2, dfy, epochs=20, validation_data=(X_valid, dfy_valid))"
   ]
  },
  {
   "cell_type": "code",
   "execution_count": 37,
   "metadata": {},
   "outputs": [
    {
     "data": {
      "image/png": "[encoded data removed]",
      "text/plain": [
       "<Figure size 576x360 with 1 Axes>"
      ]
     },
     "metadata": {
      "needs_background": "light"
     },
     "output_type": "display_data"
    }
   ],
   "source": [
    "pd.DataFrame(history.history).plot(figsize=(8, 5))\n",
    "plt.grid(True)\n",
    "plt.gca().set_ylim(0,2)\n",
    "plt.show()"
   ]
  },
  {
   "cell_type": "markdown",
   "metadata": {},
   "source": [
    "### Submission"
   ]
  },
  {
   "cell_type": "code",
   "execution_count": 38,
   "metadata": {
    "execution": {
     "iopub.execute_input": "2021-05-29T23:14:52.338383Z",
     "iopub.status.busy": "2021-05-29T23:14:52.337940Z",
     "iopub.status.idle": "2021-05-29T23:14:52.744942Z",
     "shell.execute_reply": "2021-05-29T23:14:52.743872Z",
     "shell.execute_reply.started": "2021-05-29T23:14:52.338339Z"
    }
   },
   "outputs": [
    {
     "name": "stdout",
     "output_type": "stream",
     "text": [
      "WARNING:tensorflow:Model was constructed with shape (None, 28, 28) for input Tensor(\"flatten_1_input:0\", shape=(None, 28, 28), dtype=float32), but it was called on an input with incompatible shape (None, 784).\n"
     ]
    },
    {
     "data": {
      "text/html": [
       "<div>\n",
       "<style scoped>\n",
       "    .dataframe tbody tr th:only-of-type {\n",
       "        vertical-align: middle;\n",
       "    }\n",
       "\n",
       "    .dataframe tbody tr th {\n",
       "        vertical-align: top;\n",
       "    }\n",
       "\n",
       "    .dataframe thead th {\n",
       "        text-align: right;\n",
       "    }\n",
       "</style>\n",
       "<table border=\"1\" class=\"dataframe\">\n",
       "  <thead>\n",
       "    <tr style=\"text-align: right;\">\n",
       "      <th></th>\n",
       "      <th>id</th>\n",
       "      <th>label</th>\n",
       "    </tr>\n",
       "  </thead>\n",
       "  <tbody>\n",
       "    <tr>\n",
       "      <th>0</th>\n",
       "      <td>0</td>\n",
       "      <td>3</td>\n",
       "    </tr>\n",
       "    <tr>\n",
       "      <th>1</th>\n",
       "      <td>1</td>\n",
       "      <td>0</td>\n",
       "    </tr>\n",
       "    <tr>\n",
       "      <th>2</th>\n",
       "      <td>2</td>\n",
       "      <td>2</td>\n",
       "    </tr>\n",
       "    <tr>\n",
       "      <th>3</th>\n",
       "      <td>3</td>\n",
       "      <td>6</td>\n",
       "    </tr>\n",
       "    <tr>\n",
       "      <th>4</th>\n",
       "      <td>4</td>\n",
       "      <td>7</td>\n",
       "    </tr>\n",
       "  </tbody>\n",
       "</table>\n",
       "</div>"
      ],
      "text/plain": [
       "   id  label\n",
       "0   0      3\n",
       "1   1      0\n",
       "2   2      2\n",
       "3   3      6\n",
       "4   4      7"
      ]
     },
     "execution_count": 38,
     "metadata": {},
     "output_type": "execute_result"
    }
   ],
   "source": [
    "y_test = model2.predict(ae_test2)\n",
    "\n",
    "# Read in sample_submission dataframe\n",
    "submission = pd.read_csv(\"input/Kannada-MNIST/sample_submission.csv\")\n",
    "\n",
    "# Append predictions from blended models\n",
    "submission.iloc[:,1] = np.argmax(y_test, axis=-1)\n",
    "#submission.to_csv(\"submission.csv\", index=False)\n",
    "\n",
    "submission.head()"
   ]
  },
  {
   "cell_type": "markdown",
   "metadata": {},
   "source": [
    "# Method 3: Using Convolutional Layers Instead of Dense Layers"
   ]
  },
  {
   "cell_type": "markdown",
   "metadata": {},
   "source": [
    "Let's build a stacked Autoencoder with 3 hidden layers and 1 output layer (i.e., 2 stacked Autoencoders)."
   ]
  },
  {
   "cell_type": "code",
   "execution_count": 39,
   "metadata": {
    "execution": {
     "iopub.execute_input": "2021-05-29T23:25:18.164652Z",
     "iopub.status.busy": "2021-05-29T23:25:18.164227Z",
     "iopub.status.idle": "2021-05-29T23:28:07.946509Z",
     "shell.execute_reply": "2021-05-29T23:28:07.945493Z",
     "shell.execute_reply.started": "2021-05-29T23:25:18.164593Z"
    }
   },
   "outputs": [
    {
     "name": "stdout",
     "output_type": "stream",
     "text": [
      "Epoch 1/5\n",
      "1313/1313 [==============================] - 20s 15ms/step - loss: 0.1269 - rounded_accuracy: 0.9478 - val_loss: 0.1005 - val_rounded_accuracy: 0.9598\n",
      "Epoch 2/5\n",
      "1313/1313 [==============================] - 20s 15ms/step - loss: 0.0927 - rounded_accuracy: 0.9651 - val_loss: 0.0882 - val_rounded_accuracy: 0.9684\n",
      "Epoch 3/5\n",
      "1313/1313 [==============================] - 20s 15ms/step - loss: 0.0855 - rounded_accuracy: 0.9700 - val_loss: 0.0827 - val_rounded_accuracy: 0.9721\n",
      "Epoch 4/5\n",
      "1313/1313 [==============================] - 19s 15ms/step - loss: 0.0814 - rounded_accuracy: 0.9727 - val_loss: 0.0818 - val_rounded_accuracy: 0.9724\n",
      "Epoch 5/5\n",
      "1313/1313 [==============================] - 19s 15ms/step - loss: 0.0787 - rounded_accuracy: 0.9746 - val_loss: 0.0775 - val_rounded_accuracy: 0.9758\n"
     ]
    }
   ],
   "source": [
    "tf.random.set_seed(42)\n",
    "np.random.seed(42)\n",
    "\n",
    "conv_encoder = keras.models.Sequential([\n",
    "    keras.layers.Reshape([28, 28, 1], input_shape=[28, 28]),\n",
    "    keras.layers.Conv2D(16, kernel_size=3, padding=\"SAME\", activation=\"selu\"),\n",
    "    keras.layers.MaxPool2D(pool_size=2),\n",
    "    keras.layers.Conv2D(32, kernel_size=3, padding=\"SAME\", activation=\"selu\"),\n",
    "    keras.layers.MaxPool2D(pool_size=2),\n",
    "    keras.layers.Conv2D(64, kernel_size=3, padding=\"SAME\", activation=\"selu\"),\n",
    "    keras.layers.MaxPool2D(pool_size=2)\n",
    "])\n",
    "conv_decoder = keras.models.Sequential([\n",
    "    keras.layers.Conv2DTranspose(32, kernel_size=3, strides=2, padding=\"VALID\", activation=\"selu\",\n",
    "                                 input_shape=[3, 3, 64]),\n",
    "    keras.layers.Conv2DTranspose(16, kernel_size=3, strides=2, padding=\"SAME\", activation=\"selu\"),\n",
    "    keras.layers.Conv2DTranspose(1, kernel_size=3, strides=2, padding=\"SAME\", activation=\"sigmoid\"),\n",
    "    keras.layers.Reshape([28, 28])\n",
    "])\n",
    "conv_ae = keras.models.Sequential([conv_encoder, conv_decoder])\n",
    "\n",
    "conv_ae.compile(loss=\"binary_crossentropy\", optimizer=keras.optimizers.SGD(lr=1.0),\n",
    "                metrics=[rounded_accuracy])\n",
    "history = conv_ae.fit(X_train, X_train, epochs=5,\n",
    "                      validation_data=(X_valid, X_valid))"
   ]
  },
  {
   "cell_type": "code",
   "execution_count": 40,
   "metadata": {},
   "outputs": [
    {
     "data": {
      "image/png": "[encoded data removed]",
      "text/plain": [
       "<Figure size 576x360 with 1 Axes>"
      ]
     },
     "metadata": {
      "needs_background": "light"
     },
     "output_type": "display_data"
    }
   ],
   "source": [
    "pd.DataFrame(history.history).plot(figsize=(8, 5))\n",
    "plt.grid(True)\n",
    "plt.gca().set_ylim(0,2)\n",
    "plt.show()"
   ]
  },
  {
   "cell_type": "code",
   "execution_count": 41,
   "metadata": {
    "execution": {
     "iopub.execute_input": "2021-05-29T23:17:44.018293Z",
     "iopub.status.busy": "2021-05-29T23:17:44.017906Z",
     "iopub.status.idle": "2021-05-29T23:17:44.032075Z",
     "shell.execute_reply": "2021-05-29T23:17:44.030630Z",
     "shell.execute_reply.started": "2021-05-29T23:17:44.018259Z"
    }
   },
   "outputs": [
    {
     "name": "stdout",
     "output_type": "stream",
     "text": [
      "Model: \"sequential_4\"\n",
      "_________________________________________________________________\n",
      "Layer (type)                 Output Shape              Param #   \n",
      "=================================================================\n",
      "reshape_1 (Reshape)          (None, 28, 28, 1)         0         \n",
      "_________________________________________________________________\n",
      "conv2d (Conv2D)              (None, 28, 28, 16)        160       \n",
      "_________________________________________________________________\n",
      "max_pooling2d (MaxPooling2D) (None, 14, 14, 16)        0         \n",
      "_________________________________________________________________\n",
      "conv2d_1 (Conv2D)            (None, 14, 14, 32)        4640      \n",
      "_________________________________________________________________\n",
      "max_pooling2d_1 (MaxPooling2 (None, 7, 7, 32)          0         \n",
      "_________________________________________________________________\n",
      "conv2d_2 (Conv2D)            (None, 7, 7, 64)          18496     \n",
      "_________________________________________________________________\n",
      "max_pooling2d_2 (MaxPooling2 (None, 3, 3, 64)          0         \n",
      "=================================================================\n",
      "Total params: 23,296\n",
      "Trainable params: 23,296\n",
      "Non-trainable params: 0\n",
      "_________________________________________________________________\n",
      "Model: \"sequential_5\"\n",
      "_________________________________________________________________\n",
      "Layer (type)                 Output Shape              Param #   \n",
      "=================================================================\n",
      "conv2d_transpose (Conv2DTran (None, 7, 7, 32)          18464     \n",
      "_________________________________________________________________\n",
      "conv2d_transpose_1 (Conv2DTr (None, 14, 14, 16)        4624      \n",
      "_________________________________________________________________\n",
      "conv2d_transpose_2 (Conv2DTr (None, 28, 28, 1)         145       \n",
      "_________________________________________________________________\n",
      "reshape_2 (Reshape)          (None, 28, 28)            0         \n",
      "=================================================================\n",
      "Total params: 23,233\n",
      "Trainable params: 23,233\n",
      "Non-trainable params: 0\n",
      "_________________________________________________________________\n"
     ]
    }
   ],
   "source": [
    "conv_encoder.summary()\n",
    "conv_decoder.summary()"
   ]
  },
  {
   "cell_type": "code",
   "execution_count": 42,
   "metadata": {
    "execution": {
     "iopub.execute_input": "2021-05-29T23:17:44.034329Z",
     "iopub.status.busy": "2021-05-29T23:17:44.033839Z",
     "iopub.status.idle": "2021-05-29T23:17:44.595606Z",
     "shell.execute_reply": "2021-05-29T23:17:44.594210Z",
     "shell.execute_reply.started": "2021-05-29T23:17:44.034281Z"
    }
   },
   "outputs": [
    {
     "data": {
      "image/png": "[encoded data removed]",
      "text/plain": [
       "<Figure size 1080x216 with 20 Axes>"
      ]
     },
     "metadata": {
      "needs_background": "light"
     },
     "output_type": "display_data"
    }
   ],
   "source": [
    "show_reconstructions(conv_ae)\n",
    "plt.show()"
   ]
  },
  {
   "cell_type": "markdown",
   "metadata": {},
   "source": [
    "## Prediction using Encoded images"
   ]
  },
  {
   "cell_type": "code",
   "execution_count": 43,
   "metadata": {
    "execution": {
     "iopub.execute_input": "2021-05-29T23:17:44.597280Z",
     "iopub.status.busy": "2021-05-29T23:17:44.596951Z",
     "iopub.status.idle": "2021-05-29T23:18:01.772451Z",
     "shell.execute_reply": "2021-05-29T23:18:01.771690Z",
     "shell.execute_reply.started": "2021-05-29T23:17:44.597250Z"
    }
   },
   "outputs": [],
   "source": [
    "ae_train = conv_ae.predict(X_train_full)\n",
    "ae_test = conv_ae.predict(X_test)"
   ]
  },
  {
   "cell_type": "code",
   "execution_count": 44,
   "metadata": {
    "execution": {
     "iopub.execute_input": "2021-05-29T23:18:01.774495Z",
     "iopub.status.busy": "2021-05-29T23:18:01.773854Z",
     "iopub.status.idle": "2021-05-29T23:18:01.781614Z",
     "shell.execute_reply": "2021-05-29T23:18:01.780842Z",
     "shell.execute_reply.started": "2021-05-29T23:18:01.774447Z"
    }
   },
   "outputs": [],
   "source": [
    "nsamples, nx, ny = ae_train.shape\n",
    "ae_train2 = ae_train.reshape((nsamples,nx*ny))\n",
    "\n",
    "dfy = dfy.reshape(nsamples)\n",
    "\n",
    "\n",
    "nsamples, nx, ny = ae_test.shape\n",
    "ae_test2 = ae_test.reshape((nsamples,nx*ny))"
   ]
  },
  {
   "cell_type": "markdown",
   "metadata": {},
   "source": [
    "#### Using Neural Networks"
   ]
  },
  {
   "cell_type": "code",
   "execution_count": 45,
   "metadata": {
    "execution": {
     "iopub.execute_input": "2021-05-29T23:18:01.784015Z",
     "iopub.status.busy": "2021-05-29T23:18:01.783256Z",
     "iopub.status.idle": "2021-05-29T23:18:01.854140Z",
     "shell.execute_reply": "2021-05-29T23:18:01.853138Z",
     "shell.execute_reply.started": "2021-05-29T23:18:01.783946Z"
    }
   },
   "outputs": [],
   "source": [
    "# Define the loss function Going to Lock this Loss Function\n",
    "loss_fn = tf.keras.losses.SparseCategoricalCrossentropy(from_logits=True)\n",
    "\n",
    "model3 = tf.keras.models.Sequential([\n",
    "  tf.keras.layers.Flatten(input_shape=[28, 28]),\n",
    "  tf.keras.layers.Dense(500, activation='relu'),\n",
    "  tf.keras.layers.Dense(350, activation='relu'),\n",
    "  tf.keras.layers.Dense(100, activation='relu'),\n",
    "  tf.keras.layers.Dense(10, activation=\"softmax\")\n",
    "])"
   ]
  },
  {
   "cell_type": "code",
   "execution_count": 46,
   "metadata": {
    "execution": {
     "iopub.execute_input": "2021-05-29T23:18:01.855566Z",
     "iopub.status.busy": "2021-05-29T23:18:01.855285Z",
     "iopub.status.idle": "2021-05-29T23:21:26.517519Z",
     "shell.execute_reply": "2021-05-29T23:21:26.516367Z",
     "shell.execute_reply.started": "2021-05-29T23:18:01.855540Z"
    }
   },
   "outputs": [
    {
     "name": "stdout",
     "output_type": "stream",
     "text": [
      "Epoch 1/20\n",
      "WARNING:tensorflow:Model was constructed with shape (None, 28, 28) for input Tensor(\"flatten_2_input:0\", shape=(None, 28, 28), dtype=float32), but it was called on an input with incompatible shape (32, 784).\n",
      "WARNING:tensorflow:Model was constructed with shape (None, 28, 28) for input Tensor(\"flatten_2_input:0\", shape=(None, 28, 28), dtype=float32), but it was called on an input with incompatible shape (32, 784).\n",
      "1875/1875 [==============================] - 6s 3ms/step - loss: 1.5249 - accuracy: 0.9383 - val_loss: 1.4856 - val_accuracy: 0.9758\n",
      "Epoch 2/20\n",
      "1875/1875 [==============================] - 6s 3ms/step - loss: 1.4957 - accuracy: 0.9656 - val_loss: 1.5029 - val_accuracy: 0.9583\n",
      "Epoch 3/20\n",
      "1875/1875 [==============================] - 5s 3ms/step - loss: 1.4916 - accuracy: 0.9694 - val_loss: 1.4772 - val_accuracy: 0.9841\n",
      "Epoch 4/20\n",
      "1875/1875 [==============================] - 6s 3ms/step - loss: 1.4892 - accuracy: 0.9718 - val_loss: 1.4761 - val_accuracy: 0.9850\n",
      "Epoch 5/20\n",
      "1875/1875 [==============================] - 6s 3ms/step - loss: 1.4877 - accuracy: 0.9735 - val_loss: 1.4758 - val_accuracy: 0.9853\n",
      "Epoch 6/20\n",
      "1875/1875 [==============================] - 5s 3ms/step - loss: 1.4862 - accuracy: 0.9750 - val_loss: 1.4773 - val_accuracy: 0.9837\n",
      "Epoch 7/20\n",
      "1875/1875 [==============================] - 6s 3ms/step - loss: 1.4882 - accuracy: 0.9728 - val_loss: 1.4789 - val_accuracy: 0.9820\n",
      "Epoch 8/20\n",
      "1875/1875 [==============================] - 6s 3ms/step - loss: 1.4890 - accuracy: 0.9723 - val_loss: 1.4742 - val_accuracy: 0.9869\n",
      "Epoch 9/20\n",
      "1875/1875 [==============================] - 6s 3ms/step - loss: 1.4876 - accuracy: 0.9736 - val_loss: 1.4852 - val_accuracy: 0.9759\n",
      "Epoch 10/20\n",
      "1875/1875 [==============================] - 6s 3ms/step - loss: 1.4886 - accuracy: 0.9725 - val_loss: 1.4779 - val_accuracy: 0.9831\n",
      "Epoch 11/20\n",
      "1875/1875 [==============================] - 6s 3ms/step - loss: 1.4887 - accuracy: 0.9724 - val_loss: 1.5009 - val_accuracy: 0.9602\n",
      "Epoch 12/20\n",
      "1875/1875 [==============================] - 6s 3ms/step - loss: 1.4888 - accuracy: 0.9723 - val_loss: 1.4737 - val_accuracy: 0.9874\n",
      "Epoch 13/20\n",
      "1875/1875 [==============================] - 6s 3ms/step - loss: 1.4861 - accuracy: 0.9751 - val_loss: 1.4833 - val_accuracy: 0.9779 - loss: 1.4858 - accuracy: \n",
      "Epoch 14/20\n",
      "1875/1875 [==============================] - 6s 3ms/step - loss: 1.4861 - accuracy: 0.9750 - val_loss: 1.4752 - val_accuracy: 0.9860\n",
      "Epoch 15/20\n",
      "1875/1875 [==============================] - 6s 3ms/step - loss: 1.4892 - accuracy: 0.9719 - val_loss: 1.4764 - val_accuracy: 0.9847\n",
      "Epoch 16/20\n",
      "1875/1875 [==============================] - 6s 3ms/step - loss: 1.4874 - accuracy: 0.9738 - val_loss: 1.4748 - val_accuracy: 0.9863\n",
      "Epoch 17/20\n",
      "1875/1875 [==============================] - 6s 3ms/step - loss: 1.4883 - accuracy: 0.9729 - val_loss: 1.4764 - val_accuracy: 0.9847\n",
      "Epoch 18/20\n",
      "1875/1875 [==============================] - 6s 3ms/step - loss: 1.4908 - accuracy: 0.9703 - val_loss: 1.4787 - val_accuracy: 0.9826\n",
      "Epoch 19/20\n",
      "1875/1875 [==============================] - 6s 3ms/step - loss: 1.4920 - accuracy: 0.9692 - val_loss: 1.4767 - val_accuracy: 0.9844\n",
      "Epoch 20/20\n",
      "1875/1875 [==============================] - 14s 8ms/step - loss: 1.4894 - accuracy: 0.9717 - val_loss: 1.4889 - val_accuracy: 0.9722\n"
     ]
    }
   ],
   "source": [
    "# How do we optomize the loss function and what do we measure\n",
    "model3.compile(optimizer='adam',\n",
    "              loss=loss_fn,\n",
    "              metrics=['accuracy'])\n",
    "\n",
    "history = model3.fit(ae_train2, dfy, epochs=20, validation_data=(X_valid, dfy_valid))"
   ]
  },
  {
   "cell_type": "code",
   "execution_count": 47,
   "metadata": {},
   "outputs": [
    {
     "data": {
      "image/png": "[encoded data removed]",
      "text/plain": [
       "<Figure size 576x360 with 1 Axes>"
      ]
     },
     "metadata": {
      "needs_background": "light"
     },
     "output_type": "display_data"
    }
   ],
   "source": [
    "pd.DataFrame(history.history).plot(figsize=(8, 5))\n",
    "plt.grid(True)\n",
    "plt.gca().set_ylim(0,2)\n",
    "plt.show()"
   ]
  },
  {
   "cell_type": "code",
   "execution_count": 48,
   "metadata": {
    "execution": {
     "iopub.execute_input": "2021-05-29T23:21:26.519528Z",
     "iopub.status.busy": "2021-05-29T23:21:26.519212Z",
     "iopub.status.idle": "2021-05-29T23:21:26.895537Z",
     "shell.execute_reply": "2021-05-29T23:21:26.894437Z",
     "shell.execute_reply.started": "2021-05-29T23:21:26.519497Z"
    }
   },
   "outputs": [
    {
     "name": "stdout",
     "output_type": "stream",
     "text": [
      "WARNING:tensorflow:Model was constructed with shape (None, 28, 28) for input Tensor(\"flatten_2_input:0\", shape=(None, 28, 28), dtype=float32), but it was called on an input with incompatible shape (None, 784).\n"
     ]
    },
    {
     "data": {
      "text/html": [
       "<div>\n",
       "<style scoped>\n",
       "    .dataframe tbody tr th:only-of-type {\n",
       "        vertical-align: middle;\n",
       "    }\n",
       "\n",
       "    .dataframe tbody tr th {\n",
       "        vertical-align: top;\n",
       "    }\n",
       "\n",
       "    .dataframe thead th {\n",
       "        text-align: right;\n",
       "    }\n",
       "</style>\n",
       "<table border=\"1\" class=\"dataframe\">\n",
       "  <thead>\n",
       "    <tr style=\"text-align: right;\">\n",
       "      <th></th>\n",
       "      <th>id</th>\n",
       "      <th>label</th>\n",
       "    </tr>\n",
       "  </thead>\n",
       "  <tbody>\n",
       "    <tr>\n",
       "      <th>0</th>\n",
       "      <td>0</td>\n",
       "      <td>3</td>\n",
       "    </tr>\n",
       "    <tr>\n",
       "      <th>1</th>\n",
       "      <td>1</td>\n",
       "      <td>0</td>\n",
       "    </tr>\n",
       "    <tr>\n",
       "      <th>2</th>\n",
       "      <td>2</td>\n",
       "      <td>2</td>\n",
       "    </tr>\n",
       "    <tr>\n",
       "      <th>3</th>\n",
       "      <td>3</td>\n",
       "      <td>6</td>\n",
       "    </tr>\n",
       "    <tr>\n",
       "      <th>4</th>\n",
       "      <td>4</td>\n",
       "      <td>7</td>\n",
       "    </tr>\n",
       "  </tbody>\n",
       "</table>\n",
       "</div>"
      ],
      "text/plain": [
       "   id  label\n",
       "0   0      3\n",
       "1   1      0\n",
       "2   2      2\n",
       "3   3      6\n",
       "4   4      7"
      ]
     },
     "execution_count": 48,
     "metadata": {},
     "output_type": "execute_result"
    }
   ],
   "source": [
    "y_test = model3.predict(ae_test2)\n",
    "\n",
    "# Read in sample_submission dataframe\n",
    "submission = pd.read_csv(\"input/Kannada-MNIST/sample_submission.csv\")\n",
    "\n",
    "# Append predictions from blended models\n",
    "submission.iloc[:,1] = np.argmax(y_test, axis=-1)\n",
    "#submission.to_csv(\"submission.csv\", index=False)\n",
    "\n",
    "submission.head()"
   ]
  },
  {
   "cell_type": "markdown",
   "metadata": {},
   "source": [
    "# Method 4: Stacked denoising Autoencoder"
   ]
  },
  {
   "cell_type": "markdown",
   "metadata": {},
   "source": [
    "Using Gaussian noise:"
   ]
  },
  {
   "cell_type": "code",
   "execution_count": 49,
   "metadata": {
    "execution": {
     "iopub.execute_input": "2021-05-29T23:29:46.555072Z",
     "iopub.status.busy": "2021-05-29T23:29:46.554672Z",
     "iopub.status.idle": "2021-05-29T23:31:57.893489Z",
     "shell.execute_reply": "2021-05-29T23:31:57.892578Z",
     "shell.execute_reply.started": "2021-05-29T23:29:46.555037Z"
    }
   },
   "outputs": [
    {
     "name": "stdout",
     "output_type": "stream",
     "text": [
      "Epoch 1/20\n",
      "1313/1313 [==============================] - 4s 3ms/step - loss: 0.1976 - rounded_accuracy: 0.9190 - val_loss: 0.1678 - val_rounded_accuracy: 0.9267\n",
      "Epoch 2/20\n",
      "1313/1313 [==============================] - 4s 3ms/step - loss: 0.1561 - rounded_accuracy: 0.9320 - val_loss: 0.1466 - val_rounded_accuracy: 0.9350 0.1572 - rounded_\n",
      "Epoch 3/20\n",
      "1313/1313 [==============================] - 4s 3ms/step - loss: 0.1435 - rounded_accuracy: 0.9372 - val_loss: 0.1381 - val_rounded_accuracy: 0.9390\n",
      "Epoch 4/20\n",
      "1313/1313 [==============================] - 3s 2ms/step - loss: 0.1374 - rounded_accuracy: 0.9400 - val_loss: 0.1328 - val_rounded_accuracy: 0.9421\n",
      "Epoch 5/20\n",
      "1313/1313 [==============================] - 3s 2ms/step - loss: 0.1333 - rounded_accuracy: 0.9422 - val_loss: 0.1285 - val_rounded_accuracy: 0.9443\n",
      "Epoch 6/20\n",
      "1313/1313 [==============================] - 3s 2ms/step - loss: 0.1300 - rounded_accuracy: 0.9439 - val_loss: 0.1256 - val_rounded_accuracy: 0.9460\n",
      "Epoch 7/20\n",
      "1313/1313 [==============================] - 3s 2ms/step - loss: 0.1278 - rounded_accuracy: 0.9450 - val_loss: 0.1235 - val_rounded_accuracy: 0.9473\n",
      "Epoch 8/20\n",
      "1313/1313 [==============================] - 3s 2ms/step - loss: 0.1260 - rounded_accuracy: 0.9459 - val_loss: 0.1219 - val_rounded_accuracy: 0.9479: 0s - loss: 0.1261 - rounded_accuracy: 0.94 - ETA: 0s - loss: 0.1261 - rounded_accura\n",
      "Epoch 9/20\n",
      "1313/1313 [==============================] - 3s 2ms/step - loss: 0.1246 - rounded_accuracy: 0.9466 - val_loss: 0.1205 - val_rounded_accuracy: 0.9488oss: 0.1246 - rounded_ - ETA: 0s - loss: 0.1246 - rounded_ac - ETA: 0s - loss: 0.1246 - rounded_accuracy: 0. - ETA: 0s - loss: 0.1246 - rounded_\n",
      "Epoch 10/20\n",
      "1313/1313 [==============================] - 3s 2ms/step - loss: 0.1235 - rounded_accuracy: 0.9471 - val_loss: 0.1195 - val_rounded_accuracy: 0.9495: 1s - loss: 0.1243 - rounded_accuracy:  - ETA: 1s - loss: 0 - ETA: 0s - loss: 0.1239  - ETA: 0s - loss: 0.1235 - rounded_accuracy\n",
      "Epoch 11/20\n",
      "1313/1313 [==============================] - 3s 2ms/step - loss: 0.1225 - rounded_accuracy: 0.9476 - val_loss: 0.1185 - val_rounded_accuracy: 0.9498\n",
      "Epoch 12/20\n",
      "1313/1313 [==============================] - 3s 2ms/step - loss: 0.1217 - rounded_accuracy: 0.9480 - val_loss: 0.1177 - val_rounded_accuracy: 0.95030s - loss: 0.1218 -  - ETA: 0s - loss: 0.1217 - rounded_accuracy: \n",
      "Epoch 13/20\n",
      "1313/1313 [==============================] - 4s 3ms/step - loss: 0.1210 - rounded_accuracy: 0.9484 - val_loss: 0.1169 - val_rounded_accuracy: 0.9510\n",
      "Epoch 14/20\n",
      "1313/1313 [==============================] - 4s 3ms/step - loss: 0.1202 - rounded_accuracy: 0.9488 - val_loss: 0.1160 - val_rounded_accuracy: 0.9511\n",
      "Epoch 15/20\n",
      "1313/1313 [==============================] - 4s 3ms/step - loss: 0.1194 - rounded_accuracy: 0.9492 - val_loss: 0.1152 - val_rounded_accuracy: 0.9517\n",
      "Epoch 16/20\n",
      "1313/1313 [==============================] - 4s 3ms/step - loss: 0.1186 - rounded_accuracy: 0.9496 - val_loss: 0.1143 - val_rounded_accuracy: 0.9522\n",
      "Epoch 17/20\n",
      "1313/1313 [==============================] - 4s 3ms/step - loss: 0.1179 - rounded_accuracy: 0.9500 - val_loss: 0.1140 - val_rounded_accuracy: 0.9523\n",
      "Epoch 18/20\n",
      "1313/1313 [==============================] - 4s 3ms/step - loss: 0.1174 - rounded_accuracy: 0.9503 - val_loss: 0.1132 - val_rounded_accuracy: 0.9528\n",
      "Epoch 19/20\n",
      "1313/1313 [==============================] - 4s 3ms/step - loss: 0.1170 - rounded_accuracy: 0.9505 - val_loss: 0.1130 - val_rounded_accuracy: 0.9529\n",
      "Epoch 20/20\n",
      "1313/1313 [==============================] - 4s 3ms/step - loss: 0.1166 - rounded_accuracy: 0.9507 - val_loss: 0.1125 - val_rounded_accuracy: 0.9534\n"
     ]
    }
   ],
   "source": [
    "tf.random.set_seed(42)\n",
    "np.random.seed(42)\n",
    "\n",
    "denoising_encoder = keras.models.Sequential([\n",
    "    keras.layers.Flatten(input_shape=[28, 28]),\n",
    "    keras.layers.GaussianNoise(0.2),\n",
    "    keras.layers.Dense(100, activation=\"selu\"),\n",
    "    keras.layers.Dense(30, activation=\"selu\")\n",
    "])\n",
    "denoising_decoder = keras.models.Sequential([\n",
    "    keras.layers.Dense(100, activation=\"selu\", input_shape=[30]),\n",
    "    keras.layers.Dense(28 * 28, activation=\"sigmoid\"),\n",
    "    keras.layers.Reshape([28, 28])\n",
    "])\n",
    "denoising_ae = keras.models.Sequential([denoising_encoder, denoising_decoder])\n",
    "denoising_ae.compile(loss=\"binary_crossentropy\", optimizer=keras.optimizers.SGD(lr=1.0),\n",
    "                     metrics=[rounded_accuracy])\n",
    "history = denoising_ae.fit(X_train, X_train, epochs=20,\n",
    "                           validation_data=(X_valid, X_valid))"
   ]
  },
  {
   "cell_type": "code",
   "execution_count": 50,
   "metadata": {},
   "outputs": [
    {
     "data": {
      "image/png": "[encoded data removed]",
      "text/plain": [
       "<Figure size 576x360 with 1 Axes>"
      ]
     },
     "metadata": {
      "needs_background": "light"
     },
     "output_type": "display_data"
    }
   ],
   "source": [
    "pd.DataFrame(history.history).plot(figsize=(8, 5))\n",
    "plt.grid(True)\n",
    "plt.gca().set_ylim(0,2)\n",
    "plt.show()"
   ]
  },
  {
   "cell_type": "code",
   "execution_count": 51,
   "metadata": {
    "execution": {
     "iopub.execute_input": "2021-05-29T23:32:39.508105Z",
     "iopub.status.busy": "2021-05-29T23:32:39.507510Z",
     "iopub.status.idle": "2021-05-29T23:32:40.840207Z",
     "shell.execute_reply": "2021-05-29T23:32:40.839382Z",
     "shell.execute_reply.started": "2021-05-29T23:32:39.508071Z"
    }
   },
   "outputs": [
    {
     "name": "stdout",
     "output_type": "stream",
     "text": [
      "WARNING:tensorflow:Layer gaussian_noise_1 is casting an input tensor from dtype float64 to the layer's dtype of float32, which is new behavior in TensorFlow 2.  The layer has dtype float32 because its dtype defaults to floatx.\n",
      "\n",
      "If you intended to run this layer in float32, you can safely ignore this warning. If in doubt, this warning is likely only an issue if you are porting a TensorFlow 1.X model to TensorFlow 2.\n",
      "\n",
      "To change all layers to have dtype float64 by default, call `tf.keras.backend.set_floatx('float64')`. To change just this layer, pass dtype='float64' to the layer constructor. If you are the author of this layer, you can disable autocasting by passing autocast=False to the base Layer constructor.\n",
      "\n"
     ]
    },
    {
     "data": {
      "image/png": "[encoded data removed]",
      "text/plain": [
       "<Figure size 1080x216 with 20 Axes>"
      ]
     },
     "metadata": {
      "needs_background": "light"
     },
     "output_type": "display_data"
    }
   ],
   "source": [
    "tf.random.set_seed(42)\n",
    "np.random.seed(42)\n",
    "\n",
    "noise = keras.layers.GaussianNoise(0.2)\n",
    "show_reconstructions(denoising_ae, noise(X_valid, training=True))\n",
    "plt.show()"
   ]
  },
  {
   "cell_type": "markdown",
   "metadata": {},
   "source": [
    "## Prediction using Encoded images"
   ]
  },
  {
   "cell_type": "code",
   "execution_count": 52,
   "metadata": {
    "execution": {
     "iopub.execute_input": "2021-05-29T23:32:46.335104Z",
     "iopub.status.busy": "2021-05-29T23:32:46.334734Z",
     "iopub.status.idle": "2021-05-29T23:32:50.290453Z",
     "shell.execute_reply": "2021-05-29T23:32:50.289655Z",
     "shell.execute_reply.started": "2021-05-29T23:32:46.335069Z"
    }
   },
   "outputs": [],
   "source": [
    "ae_train = denoising_ae.predict(X_train_full)\n",
    "ae_test = denoising_ae.predict(X_test)\n",
    "\n",
    "nsamples, nx, ny = ae_train.shape\n",
    "ae_train2 = ae_train.reshape((nsamples,nx*ny))\n",
    "\n",
    "dfy = dfy.reshape(nsamples)\n",
    "\n",
    "\n",
    "nsamples, nx, ny = ae_test.shape\n",
    "ae_test2 = ae_test.reshape((nsamples,nx*ny))"
   ]
  },
  {
   "cell_type": "code",
   "execution_count": 53,
   "metadata": {
    "execution": {
     "iopub.execute_input": "2021-05-29T23:32:53.498368Z",
     "iopub.status.busy": "2021-05-29T23:32:53.497794Z",
     "iopub.status.idle": "2021-05-29T23:32:53.550269Z",
     "shell.execute_reply": "2021-05-29T23:32:53.549500Z",
     "shell.execute_reply.started": "2021-05-29T23:32:53.498330Z"
    }
   },
   "outputs": [],
   "source": [
    "# Define the loss function Going to Lock this Loss Function\n",
    "loss_fn = tf.keras.losses.SparseCategoricalCrossentropy(from_logits=True)\n",
    "\n",
    "model4 = tf.keras.models.Sequential([\n",
    "  tf.keras.layers.Flatten(input_shape=[28, 28]),\n",
    "  tf.keras.layers.Dense(500, activation='relu'),\n",
    "  tf.keras.layers.Dense(350, activation='relu'),\n",
    "  tf.keras.layers.Dense(100, activation='relu'),\n",
    "  tf.keras.layers.Dense(10, activation=\"softmax\")\n",
    "])"
   ]
  },
  {
   "cell_type": "code",
   "execution_count": 54,
   "metadata": {
    "execution": {
     "iopub.execute_input": "2021-05-29T23:32:58.352128Z",
     "iopub.status.busy": "2021-05-29T23:32:58.351614Z",
     "iopub.status.idle": "2021-05-29T23:36:19.229754Z",
     "shell.execute_reply": "2021-05-29T23:36:19.228377Z",
     "shell.execute_reply.started": "2021-05-29T23:32:58.352093Z"
    }
   },
   "outputs": [
    {
     "name": "stdout",
     "output_type": "stream",
     "text": [
      "Epoch 1/20\n",
      "WARNING:tensorflow:Model was constructed with shape (None, 28, 28) for input Tensor(\"flatten_4_input:0\", shape=(None, 28, 28), dtype=float32), but it was called on an input with incompatible shape (32, 784).\n",
      "WARNING:tensorflow:Model was constructed with shape (None, 28, 28) for input Tensor(\"flatten_4_input:0\", shape=(None, 28, 28), dtype=float32), but it was called on an input with incompatible shape (32, 784).\n",
      "1875/1875 [==============================] - 6s 3ms/step - loss: 1.5235 - accuracy: 0.9398 - val_loss: 1.4860 - val_accuracy: 0.9754\n",
      "Epoch 2/20\n",
      "1875/1875 [==============================] - 6s 3ms/step - loss: 1.5051 - accuracy: 0.9560 - val_loss: 1.4969 - val_accuracy: 0.9642\n",
      "Epoch 3/20\n",
      "1875/1875 [==============================] - 6s 3ms/step - loss: 1.5060 - accuracy: 0.9550 - val_loss: 1.4838 - val_accuracy: 0.9772\n",
      "Epoch 4/20\n",
      "1875/1875 [==============================] - 6s 3ms/step - loss: 1.5042 - accuracy: 0.9569 - val_loss: 1.4878 - val_accuracy: 0.9734\n",
      "Epoch 5/20\n",
      "1875/1875 [==============================] - 6s 3ms/step - loss: 1.5043 - accuracy: 0.9567 - val_loss: 1.5133 - val_accuracy: 0.9474\n",
      "Epoch 6/20\n",
      "1875/1875 [==============================] - 6s 3ms/step - loss: 1.5054 - accuracy: 0.9556 - val_loss: 1.4992 - val_accuracy: 0.9617\n",
      "Epoch 7/20\n",
      "1875/1875 [==============================] - 6s 3ms/step - loss: 1.5038 - accuracy: 0.9573 - val_loss: 1.4992 - val_accuracy: 0.9619\n",
      "Epoch 8/20\n",
      "1875/1875 [==============================] - 6s 3ms/step - loss: 1.5034 - accuracy: 0.9577 - val_loss: 1.5001 - val_accuracy: 0.9611\n",
      "Epoch 9/20\n",
      "1875/1875 [==============================] - 6s 3ms/step - loss: 1.5053 - accuracy: 0.9559 - val_loss: 1.4887 - val_accuracy: 0.9724\n",
      "Epoch 10/20\n",
      "1875/1875 [==============================] - 6s 3ms/step - loss: 1.5059 - accuracy: 0.9553 - val_loss: 1.5239 - val_accuracy: 0.9373\n",
      "Epoch 11/20\n",
      "1875/1875 [==============================] - 6s 3ms/step - loss: 1.5080 - accuracy: 0.9531 - val_loss: 1.4891 - val_accuracy: 0.9721\n",
      "Epoch 12/20\n",
      "1875/1875 [==============================] - 6s 3ms/step - loss: 1.5061 - accuracy: 0.9550 - val_loss: 1.5306 - val_accuracy: 0.9306\n",
      "Epoch 13/20\n",
      "1875/1875 [==============================] - 6s 3ms/step - loss: 1.5075 - accuracy: 0.9536 - val_loss: 1.4884 - val_accuracy: 0.9728\n",
      "Epoch 14/20\n",
      "1875/1875 [==============================] - 6s 3ms/step - loss: 1.5051 - accuracy: 0.9560 - val_loss: 1.4879 - val_accuracy: 0.9732\n",
      "Epoch 15/20\n",
      "1875/1875 [==============================] - 6s 3ms/step - loss: 1.5091 - accuracy: 0.9520 - val_loss: 1.5318 - val_accuracy: 0.9292\n",
      "Epoch 16/20\n",
      "1875/1875 [==============================] - 6s 3ms/step - loss: 1.5119 - accuracy: 0.9492 - val_loss: 1.5027 - val_accuracy: 0.9584\n",
      "Epoch 17/20\n",
      "1875/1875 [==============================] - 6s 3ms/step - loss: 1.5071 - accuracy: 0.9541 - val_loss: 1.4956 - val_accuracy: 0.9656\n",
      "Epoch 18/20\n",
      "1875/1875 [==============================] - 6s 3ms/step - loss: 1.5082 - accuracy: 0.9530 - val_loss: 1.4987 - val_accuracy: 0.9624\n",
      "Epoch 19/20\n",
      "1875/1875 [==============================] - 6s 3ms/step - loss: 1.5091 - accuracy: 0.9521 - val_loss: 1.5087 - val_accuracy: 0.9524\n",
      "Epoch 20/20\n",
      "1875/1875 [==============================] - 6s 3ms/step - loss: 1.5232 - accuracy: 0.9379 - val_loss: 1.5124 - val_accuracy: 0.9487\n"
     ]
    }
   ],
   "source": [
    "# How do we optomize the loss function and what do we measure\n",
    "model4.compile(optimizer='adam',\n",
    "              loss=loss_fn,\n",
    "              metrics=['accuracy'])\n",
    "\n",
    "history = model4.fit(ae_train2, dfy, epochs=20, validation_data=(X_valid, dfy_valid))"
   ]
  },
  {
   "cell_type": "code",
   "execution_count": 55,
   "metadata": {},
   "outputs": [
    {
     "data": {
      "image/png": "[encoded data removed]",
      "text/plain": [
       "<Figure size 576x360 with 1 Axes>"
      ]
     },
     "metadata": {
      "needs_background": "light"
     },
     "output_type": "display_data"
    }
   ],
   "source": [
    "pd.DataFrame(history.history).plot(figsize=(8, 5))\n",
    "plt.grid(True)\n",
    "plt.gca().set_ylim(0,2)\n",
    "plt.show()"
   ]
  },
  {
   "cell_type": "code",
   "execution_count": 56,
   "metadata": {
    "execution": {
     "iopub.execute_input": "2021-05-30T00:16:54.250280Z",
     "iopub.status.busy": "2021-05-30T00:16:54.249880Z",
     "iopub.status.idle": "2021-05-30T00:16:54.647342Z",
     "shell.execute_reply": "2021-05-30T00:16:54.646222Z",
     "shell.execute_reply.started": "2021-05-30T00:16:54.250246Z"
    }
   },
   "outputs": [
    {
     "name": "stdout",
     "output_type": "stream",
     "text": [
      "WARNING:tensorflow:Model was constructed with shape (None, 28, 28) for input Tensor(\"flatten_4_input:0\", shape=(None, 28, 28), dtype=float32), but it was called on an input with incompatible shape (None, 784).\n"
     ]
    },
    {
     "data": {
      "text/html": [
       "<div>\n",
       "<style scoped>\n",
       "    .dataframe tbody tr th:only-of-type {\n",
       "        vertical-align: middle;\n",
       "    }\n",
       "\n",
       "    .dataframe tbody tr th {\n",
       "        vertical-align: top;\n",
       "    }\n",
       "\n",
       "    .dataframe thead th {\n",
       "        text-align: right;\n",
       "    }\n",
       "</style>\n",
       "<table border=\"1\" class=\"dataframe\">\n",
       "  <thead>\n",
       "    <tr style=\"text-align: right;\">\n",
       "      <th></th>\n",
       "      <th>id</th>\n",
       "      <th>label</th>\n",
       "    </tr>\n",
       "  </thead>\n",
       "  <tbody>\n",
       "    <tr>\n",
       "      <th>0</th>\n",
       "      <td>0</td>\n",
       "      <td>3</td>\n",
       "    </tr>\n",
       "    <tr>\n",
       "      <th>1</th>\n",
       "      <td>1</td>\n",
       "      <td>0</td>\n",
       "    </tr>\n",
       "    <tr>\n",
       "      <th>2</th>\n",
       "      <td>2</td>\n",
       "      <td>2</td>\n",
       "    </tr>\n",
       "    <tr>\n",
       "      <th>3</th>\n",
       "      <td>3</td>\n",
       "      <td>6</td>\n",
       "    </tr>\n",
       "    <tr>\n",
       "      <th>4</th>\n",
       "      <td>4</td>\n",
       "      <td>7</td>\n",
       "    </tr>\n",
       "  </tbody>\n",
       "</table>\n",
       "</div>"
      ],
      "text/plain": [
       "   id  label\n",
       "0   0      3\n",
       "1   1      0\n",
       "2   2      2\n",
       "3   3      6\n",
       "4   4      7"
      ]
     },
     "execution_count": 56,
     "metadata": {},
     "output_type": "execute_result"
    }
   ],
   "source": [
    "y_test = model4.predict(ae_test2)\n",
    "\n",
    "# Read in sample_submission dataframe\n",
    "submission = pd.read_csv(\"input/Kannada-MNIST/sample_submission.csv\")\n",
    "\n",
    "# Append predictions from blended models\n",
    "submission.iloc[:,1] = np.argmax(y_test, axis=-1)\n",
    "#submission.to_csv(\"submission.csv\", index=False)\n",
    "\n",
    "submission.head()"
   ]
  },
  {
   "cell_type": "markdown",
   "metadata": {},
   "source": [
    "# Method 5: Variational Autoencoder"
   ]
  },
  {
   "cell_type": "code",
   "execution_count": 57,
   "metadata": {
    "execution": {
     "iopub.execute_input": "2021-05-30T00:17:03.106069Z",
     "iopub.status.busy": "2021-05-30T00:17:03.105645Z",
     "iopub.status.idle": "2021-05-30T00:17:03.112033Z",
     "shell.execute_reply": "2021-05-30T00:17:03.110863Z",
     "shell.execute_reply.started": "2021-05-30T00:17:03.106032Z"
    }
   },
   "outputs": [],
   "source": [
    "K = keras.backend\n",
    "class Sampling(keras.layers.Layer):\n",
    "    def call(self, inputs):\n",
    "        mean, log_var = inputs\n",
    "        return K.random_normal(tf.shape(log_var)) * K.exp(log_var / 2) + mean "
   ]
  },
  {
   "cell_type": "code",
   "execution_count": 58,
   "metadata": {
    "execution": {
     "iopub.execute_input": "2021-05-30T00:17:09.003127Z",
     "iopub.status.busy": "2021-05-30T00:17:09.002715Z",
     "iopub.status.idle": "2021-05-30T00:19:05.381405Z",
     "shell.execute_reply": "2021-05-30T00:19:05.379683Z",
     "shell.execute_reply.started": "2021-05-30T00:17:09.003090Z"
    }
   },
   "outputs": [
    {
     "name": "stdout",
     "output_type": "stream",
     "text": [
      "Epoch 1/25\n",
      "329/329 [==============================] - 3s 8ms/step - loss: 0.2024 - rounded_accuracy: 0.9205 - val_loss: 0.1796 - val_rounded_accuracy: 0.9257\n",
      "Epoch 2/25\n",
      "329/329 [==============================] - 2s 7ms/step - loss: 0.1648 - rounded_accuracy: 0.9323 - val_loss: 0.1638 - val_rounded_accuracy: 0.9318\n",
      "Epoch 3/25\n",
      "329/329 [==============================] - 3s 8ms/step - loss: 0.1562 - rounded_accuracy: 0.9364 - val_loss: 0.1575 - val_rounded_accuracy: 0.9359\n",
      "Epoch 4/25\n",
      "329/329 [==============================] - 2s 6ms/step - loss: 0.1516 - rounded_accuracy: 0.9390 - val_loss: 0.1545 - val_rounded_accuracy: 0.9375\n",
      "Epoch 5/25\n",
      "329/329 [==============================] - 2s 7ms/step - loss: 0.1489 - rounded_accuracy: 0.9407 - val_loss: 0.1518 - val_rounded_accuracy: 0.9388\n",
      "Epoch 6/25\n",
      "329/329 [==============================] - 2s 7ms/step - loss: 0.1468 - rounded_accuracy: 0.9420 - val_loss: 0.1507 - val_rounded_accuracy: 0.9400\n",
      "Epoch 7/25\n",
      "329/329 [==============================] - 2s 7ms/step - loss: 0.1454 - rounded_accuracy: 0.9429 - val_loss: 0.1489 - val_rounded_accuracy: 0.9407\n",
      "Epoch 8/25\n",
      "329/329 [==============================] - 2s 6ms/step - loss: 0.1442 - rounded_accuracy: 0.9437 - val_loss: 0.1474 - val_rounded_accuracy: 0.9422\n",
      "Epoch 9/25\n",
      "329/329 [==============================] - 2s 7ms/step - loss: 0.1432 - rounded_accuracy: 0.9443 - val_loss: 0.1483 - val_rounded_accuracy: 0.9414\n",
      "Epoch 10/25\n",
      "329/329 [==============================] - 2s 7ms/step - loss: 0.1424 - rounded_accuracy: 0.9449 - val_loss: 0.1473 - val_rounded_accuracy: 0.9424\n",
      "Epoch 11/25\n",
      "329/329 [==============================] - 2s 6ms/step - loss: 0.1417 - rounded_accuracy: 0.9454 - val_loss: 0.1467 - val_rounded_accuracy: 0.9425\n",
      "Epoch 12/25\n",
      "329/329 [==============================] - 2s 7ms/step - loss: 0.1411 - rounded_accuracy: 0.9458 - val_loss: 0.1459 - val_rounded_accuracy: 0.9436\n",
      "Epoch 13/25\n",
      "329/329 [==============================] - 2s 6ms/step - loss: 0.1405 - rounded_accuracy: 0.9461 - val_loss: 0.1459 - val_rounded_accuracy: 0.9434\n",
      "Epoch 14/25\n",
      "329/329 [==============================] - 2s 8ms/step - loss: 0.1400 - rounded_accuracy: 0.9465 - val_loss: 0.1438 - val_rounded_accuracy: 0.9448\n",
      "Epoch 15/25\n",
      "329/329 [==============================] - 2s 6ms/step - loss: 0.1396 - rounded_accuracy: 0.9468 - val_loss: 0.1437 - val_rounded_accuracy: 0.9446\n",
      "Epoch 16/25\n",
      "329/329 [==============================] - 2s 7ms/step - loss: 0.1391 - rounded_accuracy: 0.9471 - val_loss: 0.1450 - val_rounded_accuracy: 0.9441\n",
      "Epoch 17/25\n",
      "329/329 [==============================] - 2s 8ms/step - loss: 0.1387 - rounded_accuracy: 0.9474 - val_loss: 0.1436 - val_rounded_accuracy: 0.9446\n",
      "Epoch 18/25\n",
      "329/329 [==============================] - 2s 6ms/step - loss: 0.1384 - rounded_accuracy: 0.9476 - val_loss: 0.1445 - val_rounded_accuracy: 0.9445\n",
      "Epoch 19/25\n",
      "329/329 [==============================] - 2s 7ms/step - loss: 0.1381 - rounded_accuracy: 0.9478 - val_loss: 0.1434 - val_rounded_accuracy: 0.9453\n",
      "Epoch 20/25\n",
      "329/329 [==============================] - 2s 6ms/step - loss: 0.1378 - rounded_accuracy: 0.9480 - val_loss: 0.1433 - val_rounded_accuracy: 0.9453\n",
      "Epoch 21/25\n",
      "329/329 [==============================] - 2s 6ms/step - loss: 0.1375 - rounded_accuracy: 0.9482 - val_loss: 0.1427 - val_rounded_accuracy: 0.9454\n",
      "Epoch 22/25\n",
      "329/329 [==============================] - 2s 7ms/step - loss: 0.1372 - rounded_accuracy: 0.9484 - val_loss: 0.1430 - val_rounded_accuracy: 0.9452\n",
      "Epoch 23/25\n",
      "329/329 [==============================] - 2s 6ms/step - loss: 0.1370 - rounded_accuracy: 0.9486 - val_loss: 0.1438 - val_rounded_accuracy: 0.9450\n",
      "Epoch 24/25\n",
      "329/329 [==============================] - 2s 8ms/step - loss: 0.1367 - rounded_accuracy: 0.9488 - val_loss: 0.1428 - val_rounded_accuracy: 0.9450\n",
      "Epoch 25/25\n",
      "329/329 [==============================] - 2s 6ms/step - loss: 0.1365 - rounded_accuracy: 0.9489 - val_loss: 0.1419 - val_rounded_accuracy: 0.9462\n"
     ]
    }
   ],
   "source": [
    "tf.random.set_seed(42)\n",
    "np.random.seed(42)\n",
    "\n",
    "codings_size = 10\n",
    "\n",
    "inputs = keras.layers.Input(shape=[28, 28])\n",
    "z = keras.layers.Flatten()(inputs)\n",
    "z = keras.layers.Dense(150, activation=\"selu\")(z)\n",
    "z = keras.layers.Dense(100, activation=\"selu\")(z)\n",
    "codings_mean = keras.layers.Dense(codings_size)(z)\n",
    "codings_log_var = keras.layers.Dense(codings_size)(z)\n",
    "codings = Sampling()([codings_mean, codings_log_var])\n",
    "variational_encoder = keras.models.Model(\n",
    "    inputs=[inputs], outputs=[codings_mean, codings_log_var, codings])\n",
    "\n",
    "decoder_inputs = keras.layers.Input(shape=[codings_size])\n",
    "x = keras.layers.Dense(100, activation=\"selu\")(decoder_inputs)\n",
    "x = keras.layers.Dense(150, activation=\"selu\")(x)\n",
    "x = keras.layers.Dense(28 * 28, activation=\"sigmoid\")(x)\n",
    "outputs = keras.layers.Reshape([28, 28])(x)\n",
    "variational_decoder = keras.models.Model(inputs=[decoder_inputs], outputs=[outputs])\n",
    "\n",
    "_, _, codings = variational_encoder(inputs)\n",
    "reconstructions = variational_decoder(codings)\n",
    "variational_ae = keras.models.Model(inputs=[inputs], outputs=[reconstructions])\n",
    "\n",
    "latent_loss = -0.5 * K.sum(\n",
    "    1 + codings_log_var - K.exp(codings_log_var) - K.square(codings_mean),\n",
    "    axis=-1)\n",
    "variational_ae.add_loss(K.mean(latent_loss) / 784.)\n",
    "variational_ae.compile(loss=\"binary_crossentropy\", optimizer=\"rmsprop\", metrics=[rounded_accuracy])\n",
    "history = variational_ae.fit(X_train, X_train, epochs=25, batch_size=128,\n",
    "                             validation_data=(X_valid, X_valid))"
   ]
  },
  {
   "cell_type": "code",
   "execution_count": 59,
   "metadata": {},
   "outputs": [
    {
     "data": {
      "image/png": "[encoded data removed]",
      "text/plain": [
       "<Figure size 576x360 with 1 Axes>"
      ]
     },
     "metadata": {
      "needs_background": "light"
     },
     "output_type": "display_data"
    }
   ],
   "source": [
    "pd.DataFrame(history.history).plot(figsize=(8, 5))\n",
    "plt.grid(True)\n",
    "plt.gca().set_ylim(0,2)\n",
    "plt.show()"
   ]
  },
  {
   "cell_type": "code",
   "execution_count": 60,
   "metadata": {
    "execution": {
     "iopub.execute_input": "2021-05-30T00:19:05.384263Z",
     "iopub.status.busy": "2021-05-30T00:19:05.383843Z",
     "iopub.status.idle": "2021-05-30T00:19:06.017109Z",
     "shell.execute_reply": "2021-05-30T00:19:06.015803Z",
     "shell.execute_reply.started": "2021-05-30T00:19:05.384224Z"
    }
   },
   "outputs": [
    {
     "data": {
      "image/png": "[encoded data removed]",
      "text/plain": [
       "<Figure size 1080x216 with 20 Axes>"
      ]
     },
     "metadata": {
      "needs_background": "light"
     },
     "output_type": "display_data"
    }
   ],
   "source": [
    "show_reconstructions(variational_ae)\n",
    "plt.show()"
   ]
  },
  {
   "cell_type": "markdown",
   "metadata": {},
   "source": [
    "## Prediction using Encoded images"
   ]
  },
  {
   "cell_type": "code",
   "execution_count": 61,
   "metadata": {
    "execution": {
     "iopub.execute_input": "2021-05-30T00:19:06.020657Z",
     "iopub.status.busy": "2021-05-30T00:19:06.019943Z",
     "iopub.status.idle": "2021-05-30T00:19:11.556378Z",
     "shell.execute_reply": "2021-05-30T00:19:11.555335Z",
     "shell.execute_reply.started": "2021-05-30T00:19:06.020604Z"
    }
   },
   "outputs": [],
   "source": [
    "ae_train = variational_ae.predict(X_train_full)\n",
    "ae_test = variational_ae.predict(X_test)\n",
    "\n",
    "nsamples, nx, ny = ae_train.shape\n",
    "ae_train2 = ae_train.reshape((nsamples,nx*ny))\n",
    "\n",
    "dfy = dfy.reshape(nsamples)\n",
    "\n",
    "\n",
    "nsamples, nx, ny = ae_test.shape\n",
    "ae_test2 = ae_test.reshape((nsamples,nx*ny))"
   ]
  },
  {
   "cell_type": "code",
   "execution_count": 62,
   "metadata": {
    "execution": {
     "iopub.execute_input": "2021-05-30T00:19:11.558607Z",
     "iopub.status.busy": "2021-05-30T00:19:11.557934Z",
     "iopub.status.idle": "2021-05-30T00:22:46.880753Z",
     "shell.execute_reply": "2021-05-30T00:22:46.879741Z",
     "shell.execute_reply.started": "2021-05-30T00:19:11.558556Z"
    }
   },
   "outputs": [
    {
     "name": "stdout",
     "output_type": "stream",
     "text": [
      "Epoch 1/20\n",
      "WARNING:tensorflow:Model was constructed with shape (None, 28, 28) for input Tensor(\"flatten_6_input:0\", shape=(None, 28, 28), dtype=float32), but it was called on an input with incompatible shape (32, 784).\n",
      "WARNING:tensorflow:Model was constructed with shape (None, 28, 28) for input Tensor(\"flatten_6_input:0\", shape=(None, 28, 28), dtype=float32), but it was called on an input with incompatible shape (32, 784).\n",
      "1875/1875 [==============================] - 7s 4ms/step - loss: 1.5353 - accuracy: 0.9283 - val_loss: 1.5057 - val_accuracy: 0.9553\n",
      "Epoch 2/20\n",
      "1875/1875 [==============================] - 6s 3ms/step - loss: 1.5219 - accuracy: 0.9389 - val_loss: 1.5090 - val_accuracy: 0.9520\n",
      "Epoch 3/20\n",
      "1875/1875 [==============================] - 6s 3ms/step - loss: 1.5172 - accuracy: 0.9440 - val_loss: 1.5073 - val_accuracy: 0.9536\n",
      "Epoch 4/20\n",
      "1875/1875 [==============================] - 6s 3ms/step - loss: 1.5206 - accuracy: 0.9403 - val_loss: 1.5085 - val_accuracy: 0.9526\n",
      "Epoch 5/20\n",
      "1875/1875 [==============================] - 7s 4ms/step - loss: 1.5203 - accuracy: 0.9408 - val_loss: 1.4983 - val_accuracy: 0.9628\n",
      "Epoch 6/20\n",
      "1875/1875 [==============================] - 6s 3ms/step - loss: 1.5200 - accuracy: 0.9411 - val_loss: 1.5063 - val_accuracy: 0.9548\n",
      "Epoch 7/20\n",
      "1875/1875 [==============================] - 7s 4ms/step - loss: 1.5234 - accuracy: 0.9377 - val_loss: 1.5109 - val_accuracy: 0.9502\n",
      "Epoch 8/20\n",
      "1875/1875 [==============================] - 6s 3ms/step - loss: 1.5213 - accuracy: 0.9398 - val_loss: 1.4961 - val_accuracy: 0.9649\n",
      "Epoch 9/20\n",
      "1875/1875 [==============================] - 6s 3ms/step - loss: 1.5234 - accuracy: 0.9377 - val_loss: 1.4911 - val_accuracy: 0.9699\n",
      "Epoch 10/20\n",
      "1875/1875 [==============================] - 6s 3ms/step - loss: 1.5218 - accuracy: 0.9393 - val_loss: 1.5173 - val_accuracy: 0.9437\n",
      "Epoch 11/20\n",
      "1875/1875 [==============================] - 7s 4ms/step - loss: 1.5237 - accuracy: 0.9375 - val_loss: 1.5360 - val_accuracy: 0.9252\n",
      "Epoch 12/20\n",
      "1875/1875 [==============================] - 6s 3ms/step - loss: 1.5204 - accuracy: 0.9408 - val_loss: 1.4968 - val_accuracy: 0.9642\n",
      "Epoch 13/20\n",
      "1875/1875 [==============================] - 6s 3ms/step - loss: 1.5290 - accuracy: 0.9321 - val_loss: 1.5071 - val_accuracy: 0.9540\n",
      "Epoch 14/20\n",
      "1875/1875 [==============================] - 6s 3ms/step - loss: 1.5241 - accuracy: 0.9371 - val_loss: 1.5062 - val_accuracy: 0.9549\n",
      "Epoch 15/20\n",
      "1875/1875 [==============================] - 6s 3ms/step - loss: 1.5263 - accuracy: 0.9349 - val_loss: 1.5066 - val_accuracy: 0.9546\n",
      "Epoch 16/20\n",
      "1875/1875 [==============================] - 6s 3ms/step - loss: 1.5256 - accuracy: 0.9355 - val_loss: 1.5025 - val_accuracy: 0.9586\n",
      "Epoch 17/20\n",
      "1875/1875 [==============================] - 7s 4ms/step - loss: 1.5329 - accuracy: 0.9283 - val_loss: 1.5501 - val_accuracy: 0.9109\n",
      "Epoch 18/20\n",
      "1875/1875 [==============================] - 6s 3ms/step - loss: 1.5300 - accuracy: 0.9312 - val_loss: 1.5046 - val_accuracy: 0.9565\n",
      "Epoch 19/20\n",
      "1875/1875 [==============================] - 6s 3ms/step - loss: 1.5290 - accuracy: 0.9322 - val_loss: 1.4973 - val_accuracy: 0.9639\n",
      "Epoch 20/20\n",
      "1875/1875 [==============================] - 7s 3ms/step - loss: 1.5270 - accuracy: 0.9341 - val_loss: 1.5294 - val_accuracy: 0.9318\n"
     ]
    }
   ],
   "source": [
    "# Define the loss function Going to Lock this Loss Function\n",
    "loss_fn = tf.keras.losses.SparseCategoricalCrossentropy(from_logits=True)\n",
    "\n",
    "model5 = tf.keras.models.Sequential([\n",
    "  tf.keras.layers.Flatten(input_shape=[28, 28]),\n",
    "  tf.keras.layers.Dense(500, activation='relu'),\n",
    "  tf.keras.layers.Dense(350, activation='relu'),\n",
    "  tf.keras.layers.Dense(100, activation='relu'),\n",
    "  tf.keras.layers.Dense(10, activation=\"softmax\")\n",
    "])\n",
    "\n",
    "\n",
    "# How do we optomize the loss function and what do we measure\n",
    "model5.compile(optimizer='adam',\n",
    "              loss=loss_fn,\n",
    "              metrics=['accuracy'])\n",
    "\n",
    "history = model5.fit(ae_train2, dfy, epochs=20, validation_data=(X_valid, dfy_valid))"
   ]
  },
  {
   "cell_type": "code",
   "execution_count": 63,
   "metadata": {},
   "outputs": [
    {
     "data": {
      "image/png": "[encoded data removed]",
      "text/plain": [
       "<Figure size 576x360 with 1 Axes>"
      ]
     },
     "metadata": {
      "needs_background": "light"
     },
     "output_type": "display_data"
    }
   ],
   "source": [
    "pd.DataFrame(history.history).plot(figsize=(8, 5))\n",
    "plt.grid(True)\n",
    "plt.gca().set_ylim(0,2)\n",
    "plt.show()"
   ]
  },
  {
   "cell_type": "markdown",
   "metadata": {},
   "source": [
    "### Submission"
   ]
  },
  {
   "cell_type": "code",
   "execution_count": 64,
   "metadata": {
    "execution": {
     "iopub.status.busy": "2021-05-29T23:21:28.846307Z",
     "iopub.status.idle": "2021-05-29T23:21:28.846704Z"
    }
   },
   "outputs": [
    {
     "name": "stdout",
     "output_type": "stream",
     "text": [
      "WARNING:tensorflow:Model was constructed with shape (None, 28, 28) for input Tensor(\"flatten_6_input:0\", shape=(None, 28, 28), dtype=float32), but it was called on an input with incompatible shape (None, 784).\n"
     ]
    },
    {
     "data": {
      "text/html": [
       "<div>\n",
       "<style scoped>\n",
       "    .dataframe tbody tr th:only-of-type {\n",
       "        vertical-align: middle;\n",
       "    }\n",
       "\n",
       "    .dataframe tbody tr th {\n",
       "        vertical-align: top;\n",
       "    }\n",
       "\n",
       "    .dataframe thead th {\n",
       "        text-align: right;\n",
       "    }\n",
       "</style>\n",
       "<table border=\"1\" class=\"dataframe\">\n",
       "  <thead>\n",
       "    <tr style=\"text-align: right;\">\n",
       "      <th></th>\n",
       "      <th>id</th>\n",
       "      <th>label</th>\n",
       "    </tr>\n",
       "  </thead>\n",
       "  <tbody>\n",
       "    <tr>\n",
       "      <th>0</th>\n",
       "      <td>0</td>\n",
       "      <td>3</td>\n",
       "    </tr>\n",
       "    <tr>\n",
       "      <th>1</th>\n",
       "      <td>1</td>\n",
       "      <td>0</td>\n",
       "    </tr>\n",
       "    <tr>\n",
       "      <th>2</th>\n",
       "      <td>2</td>\n",
       "      <td>2</td>\n",
       "    </tr>\n",
       "    <tr>\n",
       "      <th>3</th>\n",
       "      <td>3</td>\n",
       "      <td>6</td>\n",
       "    </tr>\n",
       "    <tr>\n",
       "      <th>4</th>\n",
       "      <td>4</td>\n",
       "      <td>7</td>\n",
       "    </tr>\n",
       "  </tbody>\n",
       "</table>\n",
       "</div>"
      ],
      "text/plain": [
       "   id  label\n",
       "0   0      3\n",
       "1   1      0\n",
       "2   2      2\n",
       "3   3      6\n",
       "4   4      7"
      ]
     },
     "execution_count": 64,
     "metadata": {},
     "output_type": "execute_result"
    }
   ],
   "source": [
    "y_test = model5.predict(ae_test2)\n",
    "\n",
    "# Read in sample_submission dataframe\n",
    "submission = pd.read_csv(\"input/Kannada-MNIST/sample_submission.csv\")\n",
    "\n",
    "# Append predictions from blended models\n",
    "submission.iloc[:,1] = np.argmax(y_test, axis=-1)\n",
    "submission.to_csv(\"submission.csv\", index=False)\n",
    "\n",
    "submission.head()"
   ]
  }
 ],
 "metadata": {
  "kernelspec": {
   "display_name": "Python 3",
   "language": "python",
   "name": "python3"
  },
  "language_info": {
   "codemirror_mode": {
    "name": "ipython",
    "version": 3
   },
   "file_extension": ".py",
   "mimetype": "text/x-python",
   "name": "python",
   "nbconvert_exporter": "python",
   "pygments_lexer": "ipython3",
   "version": "3.7.10"
  }
 },
 "nbformat": 4,
 "nbformat_minor": 4
}
